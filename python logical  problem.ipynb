{
 "cells": [
  {
   "cell_type": "code",
   "execution_count": null,
   "id": "fade3dbb",
   "metadata": {},
   "outputs": [],
   "source": [
    "Write a Python program that rotates an array by two positions to the\n",
    "right: list = [6, 86, 4, 86, 24, 75]\n",
    "required list = [24, 75, 6, 86, 4, 86]"
   ]
  },
  {
   "cell_type": "code",
   "execution_count": 6,
   "id": "57b868c7",
   "metadata": {},
   "outputs": [],
   "source": [
    " list1 = [6, 86, 4, 86, 24, 75]"
   ]
  },
  {
   "cell_type": "code",
   "execution_count": 9,
   "id": "4ebc0898",
   "metadata": {},
   "outputs": [],
   "source": [
    "def rotate(numofrotation):\n",
    "    output=[]\n",
    "    count=0\n",
    "    for i in range(len(list1)-numofrotation):\n",
    "        count+=1\n",
    "        output.append(list1[i])\n",
    "    else:\n",
    "        temp=[]\n",
    "        for i in range(count,len(list1)):\n",
    "            temp.append(list1[i])\n",
    "        else:\n",
    "                 for i in range (len(temp)):\n",
    "                          output.insert(i,temp[i])\n",
    "    return output\n",
    "                      \n",
    "                 \n",
    "                      \n",
    "    \n",
    "    "
   ]
  },
  {
   "cell_type": "code",
   "execution_count": 10,
   "id": "6595a472",
   "metadata": {},
   "outputs": [
    {
     "name": "stdout",
     "output_type": "stream",
     "text": [
      "enter the rotation2\n",
      "[24, 75, 6, 86, 4, 86]\n"
     ]
    }
   ],
   "source": [
    "numofrotation=int(input('enter the rotation'))\n",
    "result=rotate(numofrotation)\n",
    "print(result)"
   ]
  },
  {
   "cell_type": "code",
   "execution_count": 11,
   "id": "2007a53a",
   "metadata": {},
   "outputs": [],
   "source": [
    "# Python Program to find  odd and even digits using list comprehension \n",
    "lst = [2,3,4,6,7,8,9,20,34,22,55]"
   ]
  },
  {
   "cell_type": "code",
   "execution_count": 16,
   "id": "4aad2642",
   "metadata": {},
   "outputs": [],
   "source": [
    "even =[ i for i in lst if i%2==0]"
   ]
  },
  {
   "cell_type": "code",
   "execution_count": 17,
   "id": "61d24e3f",
   "metadata": {},
   "outputs": [
    {
     "data": {
      "text/plain": [
       "[2, 4, 6, 8, 20, 34, 22]"
      ]
     },
     "execution_count": 17,
     "metadata": {},
     "output_type": "execute_result"
    }
   ],
   "source": [
    "even"
   ]
  },
  {
   "cell_type": "code",
   "execution_count": 18,
   "id": "cd9099d0",
   "metadata": {},
   "outputs": [],
   "source": [
    "odd =[ i for i in lst if i%2!=0]"
   ]
  },
  {
   "cell_type": "code",
   "execution_count": 19,
   "id": "f714e742",
   "metadata": {},
   "outputs": [
    {
     "data": {
      "text/plain": [
       "[3, 7, 9, 55]"
      ]
     },
     "execution_count": 19,
     "metadata": {},
     "output_type": "execute_result"
    }
   ],
   "source": [
    "odd"
   ]
  },
  {
   "cell_type": "code",
   "execution_count": 21,
   "id": "9c19a1ad",
   "metadata": {},
   "outputs": [],
   "source": [
    "# Given a list of integers, write a Python function that calculates the product of all the elements except the one \n",
    "# at the current index.\n",
    "num = [1, 2, 3, 4]\n",
    "# output : [24, 12, 8, 6]"
   ]
  },
  {
   "cell_type": "code",
   "execution_count": 22,
   "id": "964727ed",
   "metadata": {},
   "outputs": [],
   "source": [
    "def product(num):\n",
    "    new_num=[]\n",
    "    \n",
    "    for i in num:\n",
    "        num_product=1\n",
    "        \n",
    "        for j in num:\n",
    "            if j!=i:\n",
    "                num_product = num_product*j\n",
    "        new_num.append(num_product)\n",
    "        \n",
    "    return new_num"
   ]
  },
  {
   "cell_type": "code",
   "execution_count": 23,
   "id": "3717da88",
   "metadata": {},
   "outputs": [
    {
     "name": "stdout",
     "output_type": "stream",
     "text": [
      "[24, 12, 8, 6]\n"
     ]
    }
   ],
   "source": [
    "\n",
    "print(product([1, 2, 3, 4]))"
   ]
  },
  {
   "cell_type": "code",
   "execution_count": null,
   "id": "ca8f2105",
   "metadata": {},
   "outputs": [],
   "source": []
  },
  {
   "cell_type": "code",
   "execution_count": 26,
   "id": "f1aa6b15",
   "metadata": {},
   "outputs": [],
   "source": [
    "# Write a Python program to create Fibonacci series."
   ]
  },
  {
   "cell_type": "code",
   "execution_count": null,
   "id": "bddd0ead",
   "metadata": {},
   "outputs": [],
   "source": []
  }
 ],
 "metadata": {
  "kernelspec": {
   "display_name": "Python 3 (ipykernel)",
   "language": "python",
   "name": "python3"
  },
  "language_info": {
   "codemirror_mode": {
    "name": "ipython",
    "version": 3
   },
   "file_extension": ".py",
   "mimetype": "text/x-python",
   "name": "python",
   "nbconvert_exporter": "python",
   "pygments_lexer": "ipython3",
   "version": "3.10.9"
  }
 },
 "nbformat": 4,
 "nbformat_minor": 5
}
