{
 "cells": [
  {
   "cell_type": "markdown",
   "id": "f8318315",
   "metadata": {},
   "source": [
    "# function "
   ]
  },
  {
   "cell_type": "code",
   "execution_count": null,
   "id": "a5ef9e08",
   "metadata": {},
   "outputs": [],
   "source": [
    "#function -- is a block of statement or unit  used for code reusability and reduce time consumption\n",
    "#two type of function --1built in function\n",
    "#User Define Fuunction\n"
   ]
  },
  {
   "cell_type": "code",
   "execution_count": 9,
   "id": "dfceb819",
   "metadata": {},
   "outputs": [],
   "source": [
    "# \n",
    "#1---built in function------- which function come with pythonswaptware automatically is call built in function or predefine function\n",
    "#ex--id(),print(),dir)(),help(),input(),sum()\n",
    "    "
   ]
  },
  {
   "cell_type": "code",
   "execution_count": null,
   "id": "086cc689",
   "metadata": {},
   "outputs": [],
   "source": [
    "#User Define Fuunction--- the function which is develop by programmer explicitly according to busiess requirement \n",
    "#are called user define function"
   ]
  },
  {
   "cell_type": "code",
   "execution_count": 14,
   "id": "20bc2717",
   "metadata": {},
   "outputs": [],
   "source": [
    "#syntax--\n",
    "def function_name():\n",
    "    print('block of code')\n",
    "    return"
   ]
  },
  {
   "cell_type": "code",
   "execution_count": 15,
   "id": "5550dd95",
   "metadata": {},
   "outputs": [
    {
     "name": "stdout",
     "output_type": "stream",
     "text": [
      "block of code\n"
     ]
    }
   ],
   "source": [
    "function_name()"
   ]
  },
  {
   "cell_type": "code",
   "execution_count": 21,
   "id": "63278c7f",
   "metadata": {},
   "outputs": [],
   "source": [
    "def addition():\n",
    "    num1=int(input('please enter the num1   '))\n",
    "    num2=int(input('please enter the num2   '))\n",
    "    result=num1+num2\n",
    "    print(result)\n",
    "        "
   ]
  },
  {
   "cell_type": "code",
   "execution_count": 22,
   "id": "715831b9",
   "metadata": {},
   "outputs": [
    {
     "name": "stdout",
     "output_type": "stream",
     "text": [
      "please enter the num1   33\n",
      "please enter the num2   33\n",
      "66\n"
     ]
    }
   ],
   "source": [
    "addition()"
   ]
  },
  {
   "cell_type": "code",
   "execution_count": 23,
   "id": "032db2c5",
   "metadata": {},
   "outputs": [],
   "source": [
    "def add(q,w):\n",
    "    print(q+w)"
   ]
  },
  {
   "cell_type": "code",
   "execution_count": 24,
   "id": "a198f2a6",
   "metadata": {},
   "outputs": [
    {
     "name": "stdout",
     "output_type": "stream",
     "text": [
      "88\n"
     ]
    }
   ],
   "source": [
    "add(33,55)"
   ]
  },
  {
   "cell_type": "code",
   "execution_count": null,
   "id": "6b7cfe49",
   "metadata": {},
   "outputs": [],
   "source": [
    "# type of argument  \n",
    "# there are 4 type   of argument allowed in python\n",
    "\n",
    "\n",
    "# positional argument ---- these are argument pass to function in correct positional order \n"
   ]
  },
  {
   "cell_type": "code",
   "execution_count": 36,
   "id": "5aa376a3",
   "metadata": {},
   "outputs": [],
   "source": [
    "def substarct(a,b):\n",
    "    c=a-b\n",
    "    return c"
   ]
  },
  {
   "cell_type": "code",
   "execution_count": 37,
   "id": "89a5abef",
   "metadata": {},
   "outputs": [],
   "source": [
    "min=substarct(33,11)"
   ]
  },
  {
   "cell_type": "code",
   "execution_count": 38,
   "id": "8dff9225",
   "metadata": {},
   "outputs": [
    {
     "name": "stdout",
     "output_type": "stream",
     "text": [
      "22\n"
     ]
    }
   ],
   "source": [
    "print(min)"
   ]
  },
  {
   "cell_type": "code",
   "execution_count": 39,
   "id": "5ff17667",
   "metadata": {},
   "outputs": [],
   "source": [
    " # what is return value we need to stored to any variable to print and reuse "
   ]
  },
  {
   "cell_type": "code",
   "execution_count": 40,
   "id": "17a7fb34",
   "metadata": {},
   "outputs": [],
   "source": [
    "# the number of argument and position of argumrnt  must be match if we change the order change the result"
   ]
  },
  {
   "cell_type": "code",
   "execution_count": null,
   "id": "e9737a9e",
   "metadata": {},
   "outputs": [],
   "source": [
    "\n"
   ]
  },
  {
   "cell_type": "markdown",
   "id": "a744cda1",
   "metadata": {},
   "source": [
    "# 2  -- Keyword Arguments \n"
   ]
  },
  {
   "cell_type": "code",
   "execution_count": 42,
   "id": "89c4248e",
   "metadata": {},
   "outputs": [],
   "source": [
    "# we can pass arguments value by keyword by parameter name "
   ]
  },
  {
   "cell_type": "code",
   "execution_count": 44,
   "id": "8e458390",
   "metadata": {},
   "outputs": [],
   "source": [
    "def wish(name,msg):\n",
    "    print('hello',name,msg)"
   ]
  },
  {
   "cell_type": "code",
   "execution_count": 46,
   "id": "e6cbf3a2",
   "metadata": {},
   "outputs": [
    {
     "name": "stdout",
     "output_type": "stream",
     "text": [
      "hello uddhav good morning\n"
     ]
    }
   ],
   "source": [
    "wish(name='uddhav',msg='good morning')"
   ]
  },
  {
   "cell_type": "code",
   "execution_count": 47,
   "id": "0973487f",
   "metadata": {},
   "outputs": [
    {
     "name": "stdout",
     "output_type": "stream",
     "text": [
      "hello uddhav good morning\n"
     ]
    }
   ],
   "source": [
    "wish('uddhav',msg='good morning')"
   ]
  },
  {
   "cell_type": "code",
   "execution_count": 48,
   "id": "93b4fd29",
   "metadata": {},
   "outputs": [
    {
     "ename": "SyntaxError",
     "evalue": "positional argument follows keyword argument (3316596192.py, line 1)",
     "output_type": "error",
     "traceback": [
      "\u001b[1;36m  Cell \u001b[1;32mIn[48], line 1\u001b[1;36m\u001b[0m\n\u001b[1;33m    wish(name='uddhav','good morning')\u001b[0m\n\u001b[1;37m                                     ^\u001b[0m\n\u001b[1;31mSyntaxError\u001b[0m\u001b[1;31m:\u001b[0m positional argument follows keyword argument\n"
     ]
    }
   ],
   "source": [
    "wish(name='uddhav','good morning')"
   ]
  },
  {
   "cell_type": "code",
   "execution_count": 49,
   "id": "263685ac",
   "metadata": {},
   "outputs": [],
   "source": [
    "#positional argument follows keyword argument"
   ]
  },
  {
   "cell_type": "markdown",
   "id": "6d8956cc",
   "metadata": {},
   "source": [
    "# Default Arguments"
   ]
  },
  {
   "cell_type": "code",
   "execution_count": 50,
   "id": "261408ef",
   "metadata": {},
   "outputs": [],
   "source": [
    "#sometimes we can provided default values for our positional arguments "
   ]
  },
  {
   "cell_type": "code",
   "execution_count": 52,
   "id": "4bf92ca0",
   "metadata": {},
   "outputs": [],
   "source": [
    "def wish(name='guest sir'):\n",
    "    print('hello',name,'welcome')"
   ]
  },
  {
   "cell_type": "code",
   "execution_count": 53,
   "id": "d6075573",
   "metadata": {},
   "outputs": [
    {
     "name": "stdout",
     "output_type": "stream",
     "text": [
      "hello guest sir welcome\n"
     ]
    }
   ],
   "source": [
    "wish()"
   ]
  },
  {
   "cell_type": "code",
   "execution_count": 54,
   "id": "eae4334f",
   "metadata": {},
   "outputs": [
    {
     "name": "stdout",
     "output_type": "stream",
     "text": [
      "hello uddhav welcome\n"
     ]
    }
   ],
   "source": [
    "wish('uddhav')"
   ]
  },
  {
   "cell_type": "code",
   "execution_count": 55,
   "id": "707d0739",
   "metadata": {},
   "outputs": [],
   "source": [
    "# here order of argument is not important bt number of argument must  be match"
   ]
  },
  {
   "cell_type": "code",
   "execution_count": null,
   "id": "686c9ecc",
   "metadata": {},
   "outputs": [],
   "source": [
    "#we can use both positional and keyword argument simultaneously bt first we have to take positional\n",
    "#argument and then keyword argument bt one things in case of  default argument after default argument \n",
    "#we should not take default argument \n"
   ]
  }
 ],
 "metadata": {
  "kernelspec": {
   "display_name": "Python 3 (ipykernel)",
   "language": "python",
   "name": "python3"
  },
  "language_info": {
   "codemirror_mode": {
    "name": "ipython",
    "version": 3
   },
   "file_extension": ".py",
   "mimetype": "text/x-python",
   "name": "python",
   "nbconvert_exporter": "python",
   "pygments_lexer": "ipython3",
   "version": "3.10.9"
  }
 },
 "nbformat": 4,
 "nbformat_minor": 5
}
