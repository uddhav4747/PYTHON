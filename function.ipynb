{
 "cells": [
  {
   "cell_type": "markdown",
   "id": "f8318315",
   "metadata": {},
   "source": [
    "# function "
   ]
  },
  {
   "cell_type": "code",
   "execution_count": null,
   "id": "a5ef9e08",
   "metadata": {},
   "outputs": [],
   "source": [
    "#function -- is a block of statement or unit  used for code reusability and reduce time consumption\n",
    "#two type of function --1built in function\n",
    "#User Define Fuunction\n"
   ]
  },
  {
   "cell_type": "code",
   "execution_count": 9,
   "id": "dfceb819",
   "metadata": {},
   "outputs": [],
   "source": [
    "# \n",
    "#1---built in function------- which function come with pythonswaptware automatically is call built in function or predefine function\n",
    "#ex--id(),print(),dir)(),help(),input(),sum()\n",
    "    "
   ]
  },
  {
   "cell_type": "code",
   "execution_count": null,
   "id": "086cc689",
   "metadata": {},
   "outputs": [],
   "source": [
    "#User Define Fuunction--- the function which is develop by programmer explicitly according to busiess requirement \n",
    "#are called user define function"
   ]
  },
  {
   "cell_type": "code",
   "execution_count": 14,
   "id": "20bc2717",
   "metadata": {},
   "outputs": [],
   "source": [
    "#syntax--\n",
    "def function_name():\n",
    "    print('block of code')\n",
    "    return"
   ]
  },
  {
   "cell_type": "code",
   "execution_count": 15,
   "id": "5550dd95",
   "metadata": {},
   "outputs": [
    {
     "name": "stdout",
     "output_type": "stream",
     "text": [
      "block of code\n"
     ]
    }
   ],
   "source": [
    "function_name()"
   ]
  },
  {
   "cell_type": "code",
   "execution_count": 21,
   "id": "63278c7f",
   "metadata": {},
   "outputs": [],
   "source": [
    "def addition():\n",
    "    num1=int(input('please enter the num1   '))\n",
    "    num2=int(input('please enter the num2   '))\n",
    "    result=num1+num2\n",
    "    print(result)\n",
    "        "
   ]
  },
  {
   "cell_type": "code",
   "execution_count": 22,
   "id": "715831b9",
   "metadata": {},
   "outputs": [
    {
     "name": "stdout",
     "output_type": "stream",
     "text": [
      "please enter the num1   33\n",
      "please enter the num2   33\n",
      "66\n"
     ]
    }
   ],
   "source": [
    "addition()"
   ]
  },
  {
   "cell_type": "code",
   "execution_count": 23,
   "id": "032db2c5",
   "metadata": {},
   "outputs": [],
   "source": [
    "def add(q,w):\n",
    "    print(q+w)"
   ]
  },
  {
   "cell_type": "code",
   "execution_count": 24,
   "id": "a198f2a6",
   "metadata": {},
   "outputs": [
    {
     "name": "stdout",
     "output_type": "stream",
     "text": [
      "88\n"
     ]
    }
   ],
   "source": [
    "add(33,55)"
   ]
  },
  {
   "cell_type": "code",
   "execution_count": null,
   "id": "6b7cfe49",
   "metadata": {},
   "outputs": [],
   "source": [
    "# type of argument  \n",
    "# there are 4 type   of argument allowed in python\n",
    "\n",
    "\n",
    "# positional argument ---- these are argument pass to function in correct positional order \n"
   ]
  },
  {
   "cell_type": "markdown",
   "id": "97d2f00e",
   "metadata": {},
   "source": [
    "# positional argument"
   ]
  },
  {
   "cell_type": "code",
   "execution_count": 28,
   "id": "a6045d21",
   "metadata": {},
   "outputs": [
    {
     "name": "stdout",
     "output_type": "stream",
     "text": [
      "NAME: uddhav\n",
      "AGE: 22\n",
      "city: pune\n",
      "adhar: 3645768\n"
     ]
    }
   ],
   "source": [
    "def info_detail(name,age,sal,city,adhar):\n",
    "    print('NAME:',name)\n",
    "    print('AGE:',age)\n",
    "    print('city:',city)\n",
    "    print('adhar:',adhar)\n",
    "    return info_detail\n",
    "    \n",
    "result=info_detail('uddhav',22,3456,'pune',3645768)\n"
   ]
  },
  {
   "cell_type": "code",
   "execution_count": null,
   "id": "c8dbd71f",
   "metadata": {},
   "outputs": [],
   "source": []
  },
  {
   "cell_type": "code",
   "execution_count": 36,
   "id": "5aa376a3",
   "metadata": {},
   "outputs": [],
   "source": [
    "def substarct(a,b):\n",
    "    c=a-b\n",
    "    return c"
   ]
  },
  {
   "cell_type": "code",
   "execution_count": null,
   "id": "4ce60e73",
   "metadata": {},
   "outputs": [],
   "source": []
  },
  {
   "cell_type": "code",
   "execution_count": 37,
   "id": "89a5abef",
   "metadata": {},
   "outputs": [],
   "source": [
    "min=substarct(33,11)"
   ]
  },
  {
   "cell_type": "code",
   "execution_count": 38,
   "id": "8dff9225",
   "metadata": {},
   "outputs": [
    {
     "name": "stdout",
     "output_type": "stream",
     "text": [
      "22\n"
     ]
    }
   ],
   "source": [
    "print(min)"
   ]
  },
  {
   "cell_type": "code",
   "execution_count": 39,
   "id": "5ff17667",
   "metadata": {},
   "outputs": [],
   "source": [
    " # what is return value we need to stored to any variable to print and reuse "
   ]
  },
  {
   "cell_type": "code",
   "execution_count": 40,
   "id": "17a7fb34",
   "metadata": {},
   "outputs": [],
   "source": [
    "# the number of argument and position of argumrnt  must be match if we change the order change the result"
   ]
  },
  {
   "cell_type": "code",
   "execution_count": null,
   "id": "e9737a9e",
   "metadata": {},
   "outputs": [],
   "source": [
    "\n"
   ]
  },
  {
   "cell_type": "markdown",
   "id": "a744cda1",
   "metadata": {},
   "source": [
    "# 2  -- Keyword Arguments \n"
   ]
  },
  {
   "cell_type": "code",
   "execution_count": 42,
   "id": "89c4248e",
   "metadata": {},
   "outputs": [],
   "source": [
    "# we can pass arguments value by keyword by parameter name "
   ]
  },
  {
   "cell_type": "code",
   "execution_count": 44,
   "id": "8e458390",
   "metadata": {},
   "outputs": [],
   "source": [
    "def wish(name,msg):\n",
    "    print('hello',name,msg)"
   ]
  },
  {
   "cell_type": "code",
   "execution_count": 46,
   "id": "e6cbf3a2",
   "metadata": {},
   "outputs": [
    {
     "name": "stdout",
     "output_type": "stream",
     "text": [
      "hello uddhav good morning\n"
     ]
    }
   ],
   "source": [
    "wish(name='uddhav',msg='good morning')"
   ]
  },
  {
   "cell_type": "code",
   "execution_count": 47,
   "id": "0973487f",
   "metadata": {},
   "outputs": [
    {
     "name": "stdout",
     "output_type": "stream",
     "text": [
      "hello uddhav good morning\n"
     ]
    }
   ],
   "source": [
    "wish('uddhav',msg='good morning')"
   ]
  },
  {
   "cell_type": "code",
   "execution_count": 48,
   "id": "93b4fd29",
   "metadata": {},
   "outputs": [
    {
     "ename": "SyntaxError",
     "evalue": "positional argument follows keyword argument (3316596192.py, line 1)",
     "output_type": "error",
     "traceback": [
      "\u001b[1;36m  Cell \u001b[1;32mIn[48], line 1\u001b[1;36m\u001b[0m\n\u001b[1;33m    wish(name='uddhav','good morning')\u001b[0m\n\u001b[1;37m                                     ^\u001b[0m\n\u001b[1;31mSyntaxError\u001b[0m\u001b[1;31m:\u001b[0m positional argument follows keyword argument\n"
     ]
    }
   ],
   "source": [
    "wish(name='uddhav','good morning')"
   ]
  },
  {
   "cell_type": "code",
   "execution_count": 49,
   "id": "263685ac",
   "metadata": {},
   "outputs": [],
   "source": [
    "#positional argument follows keyword argument"
   ]
  },
  {
   "cell_type": "code",
   "execution_count": 30,
   "id": "253b7b86",
   "metadata": {},
   "outputs": [],
   "source": [
    "def cardetail(model,year,price,warrenty):\n",
    "    print('model:',model)\n",
    "    print('year:',year)\n",
    "    print('price:',price)\n",
    "    print('warrenty:',warrenty)"
   ]
  },
  {
   "cell_type": "code",
   "execution_count": 32,
   "id": "f9a9cde7",
   "metadata": {},
   "outputs": [
    {
     "name": "stdout",
     "output_type": "stream",
     "text": [
      "model: maruti\n",
      "year: 2020\n",
      "price: 100000\n",
      "warrenty: 3year\n"
     ]
    }
   ],
   "source": [
    "cardetail(model='maruti',price='100000',warrenty='3year',year=2020)"
   ]
  },
  {
   "cell_type": "code",
   "execution_count": null,
   "id": "8c88fa46",
   "metadata": {},
   "outputs": [],
   "source": []
  },
  {
   "cell_type": "markdown",
   "id": "6d8956cc",
   "metadata": {},
   "source": [
    "# Default Arguments"
   ]
  },
  {
   "cell_type": "code",
   "execution_count": 50,
   "id": "261408ef",
   "metadata": {},
   "outputs": [],
   "source": [
    "#sometimes we can provided default values for our positional arguments "
   ]
  },
  {
   "cell_type": "code",
   "execution_count": 52,
   "id": "4bf92ca0",
   "metadata": {},
   "outputs": [],
   "source": [
    "def wish(name='guest sir'):\n",
    "    print('hello',name,'welcome')"
   ]
  },
  {
   "cell_type": "code",
   "execution_count": 53,
   "id": "d6075573",
   "metadata": {},
   "outputs": [
    {
     "name": "stdout",
     "output_type": "stream",
     "text": [
      "hello guest sir welcome\n"
     ]
    }
   ],
   "source": [
    "wish()"
   ]
  },
  {
   "cell_type": "code",
   "execution_count": 54,
   "id": "eae4334f",
   "metadata": {},
   "outputs": [
    {
     "name": "stdout",
     "output_type": "stream",
     "text": [
      "hello uddhav welcome\n"
     ]
    }
   ],
   "source": [
    "wish('uddhav')"
   ]
  },
  {
   "cell_type": "code",
   "execution_count": 55,
   "id": "707d0739",
   "metadata": {},
   "outputs": [],
   "source": [
    "# here order of argument is not important bt number of argument must  be match"
   ]
  },
  {
   "cell_type": "code",
   "execution_count": 1,
   "id": "686c9ecc",
   "metadata": {},
   "outputs": [],
   "source": [
    "#we can use both positional and keyword argument simultaneously bt first we have to take positional\n",
    "#argument and then keyword argument bt one things in case of  default argument after default argument \n",
    "#we should not take default argument \n"
   ]
  },
  {
   "cell_type": "code",
   "execution_count": 46,
   "id": "e089b838",
   "metadata": {},
   "outputs": [],
   "source": [
    "def cardetail2(model,year,price,warrenty, roadtax='paid'):\n",
    "    print('model:',model)\n",
    "    print('year:',year)\n",
    "    print('price:',price)\n",
    "    print('warrenty:',warrenty)\n",
    "    print('roadtax:',roadtax)\n",
    "    return cardetail"
   ]
  },
  {
   "cell_type": "code",
   "execution_count": 47,
   "id": "06d37328",
   "metadata": {},
   "outputs": [
    {
     "name": "stdout",
     "output_type": "stream",
     "text": [
      "model: maruti\n",
      "year: 2020\n",
      "price: 100000\n",
      "warrenty: 3year\n",
      "roadtax: paid\n"
     ]
    },
    {
     "data": {
      "text/plain": [
       "<function __main__.cardetail(model, year, price, warrenty, roadtax='paid')>"
      ]
     },
     "execution_count": 47,
     "metadata": {},
     "output_type": "execute_result"
    }
   ],
   "source": [
    "cardetail2(model='maruti',price='100000',warrenty='3year',year=2020)"
   ]
  },
  {
   "cell_type": "code",
   "execution_count": null,
   "id": "4a285a95",
   "metadata": {},
   "outputs": [],
   "source": []
  },
  {
   "cell_type": "markdown",
   "id": "629cd27c",
   "metadata": {},
   "source": [
    "# Variable length argument "
   ]
  },
  {
   "cell_type": "code",
   "execution_count": 2,
   "id": "4095985d",
   "metadata": {},
   "outputs": [],
   "source": [
    "#sometimes we can pass variable number of arguments to our function such type of arguments is call variable length arguments "
   ]
  },
  {
   "cell_type": "code",
   "execution_count": 3,
   "id": "fda148eb",
   "metadata": {},
   "outputs": [],
   "source": [
    "#variable lenght arguments declare with * symbol\n",
    "# we can call this function by passing any number of arguments including zero number \n",
    "#internally all this value represents in the from of tuple "
   ]
  },
  {
   "cell_type": "code",
   "execution_count": 20,
   "id": "57b9cbc5",
   "metadata": {},
   "outputs": [
    {
     "name": "stdout",
     "output_type": "stream",
     "text": [
      "sum is: 0\n"
     ]
    }
   ],
   "source": [
    "def addition_num (*args):\n",
    "    total= 0\n",
    "    for num in args:\n",
    "        total += num\n",
    "    return addition_num\n",
    "result = addition_num(10,20,30)\n",
    "print('sum is:',total)"
   ]
  },
  {
   "cell_type": "code",
   "execution_count": 14,
   "id": "5f494952",
   "metadata": {},
   "outputs": [
    {
     "name": "stdout",
     "output_type": "stream",
     "text": [
      "Sum is 6\n",
      "Sum is 100\n",
      "Sum is 35\n"
     ]
    }
   ],
   "source": [
    "def add_num(*args):\n",
    "    sum = 0\n",
    "    for num in args:\n",
    "        sum += num\n",
    "    return sum\n",
    "result = add_num(1, 2, 3)\n",
    "print('Sum is', result)\n",
    "result = add_num(10, 20, 30, 40)\n",
    "print('Sum is', result)\n",
    "22\n",
    "result = add_num(5, 6, 7, 8, 9)\n",
    "print('Sum is', result)"
   ]
  },
  {
   "cell_type": "code",
   "execution_count": 58,
   "id": "afadbff7",
   "metadata": {},
   "outputs": [],
   "source": [
    "def emp_data(*args):\n",
    "    print(args)"
   ]
  },
  {
   "cell_type": "code",
   "execution_count": 61,
   "id": "a1e5de73",
   "metadata": {},
   "outputs": [
    {
     "name": "stdout",
     "output_type": "stream",
     "text": [
      "(11, 33, 11, 546657)\n"
     ]
    }
   ],
   "source": [
    "emp_data(11,33,11,546657)"
   ]
  },
  {
   "cell_type": "code",
   "execution_count": null,
   "id": "064754b2",
   "metadata": {},
   "outputs": [],
   "source": []
  },
  {
   "cell_type": "markdown",
   "id": "72fbaf17",
   "metadata": {},
   "source": [
    "# variable length  keyword  arguments "
   ]
  },
  {
   "cell_type": "code",
   "execution_count": 48,
   "id": "e017bd17",
   "metadata": {},
   "outputs": [],
   "source": [
    "# it is denoted by (**kwargs)\n",
    "#variable length keword argument give result in dictionary format"
   ]
  },
  {
   "cell_type": "code",
   "execution_count": 50,
   "id": "8253e7d9",
   "metadata": {},
   "outputs": [],
   "source": [
    "def emp_detail(**kwargs):\n",
    "    print(kwargs)"
   ]
  },
  {
   "cell_type": "code",
   "execution_count": 52,
   "id": "d2144b30",
   "metadata": {},
   "outputs": [
    {
     "name": "stdout",
     "output_type": "stream",
     "text": [
      "{'name': 'uddhav', 'age': 34, 'sal': 444545, 'city': 'pune'}\n"
     ]
    }
   ],
   "source": [
    "emp_detail(name='uddhav',age=34,sal=444545,city='pune')"
   ]
  },
  {
   "cell_type": "code",
   "execution_count": null,
   "id": "1eb5652a",
   "metadata": {},
   "outputs": [],
   "source": []
  }
 ],
 "metadata": {
  "kernelspec": {
   "display_name": "Python 3 (ipykernel)",
   "language": "python",
   "name": "python3"
  },
  "language_info": {
   "codemirror_mode": {
    "name": "ipython",
    "version": 3
   },
   "file_extension": ".py",
   "mimetype": "text/x-python",
   "name": "python",
   "nbconvert_exporter": "python",
   "pygments_lexer": "ipython3",
   "version": "3.10.9"
  }
 },
 "nbformat": 4,
 "nbformat_minor": 5
}
