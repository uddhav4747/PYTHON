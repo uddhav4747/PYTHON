{
 "cells": [
  {
   "cell_type": "markdown",
   "id": "85cf605f",
   "metadata": {},
   "source": [
    "# input and output statement"
   ]
  },
  {
   "cell_type": "code",
   "execution_count": 1,
   "id": "e6d30910",
   "metadata": {},
   "outputs": [],
   "source": [
    "#reading dynamic input from keyboard \n",
    "#in python there are two function 1)input 2) row input()\n"
   ]
  },
  {
   "cell_type": "code",
   "execution_count": 3,
   "id": "7692f738",
   "metadata": {
    "code_folding": []
   },
   "outputs": [
    {
     "ename": "SyntaxError",
     "evalue": "invalid syntax (849462522.py, line 4)",
     "output_type": "error",
     "traceback": [
      "\u001b[1;36m  Cell \u001b[1;32mIn[3], line 4\u001b[1;36m\u001b[0m\n\u001b[1;33m    print(type(a))------#by default datatype is string\u001b[0m\n\u001b[1;37m                        ^\u001b[0m\n\u001b[1;31mSyntaxError\u001b[0m\u001b[1;31m:\u001b[0m invalid syntax\n"
     ]
    }
   ],
   "source": [
    "#input()--input function is used to read thr data in our required format we are required type casting \n",
    "a=input('enter the data:')\n",
    "print(a)\n",
    "print(type(a))------#by default datatype is string "
   ]
  },
  {
   "cell_type": "code",
   "execution_count": null,
   "id": "da46dd67",
   "metadata": {},
   "outputs": [],
   "source": [
    "# type casting :it is used to convert input datatype into appropriate data type"
   ]
  },
  {
   "cell_type": "code",
   "execution_count": 2,
   "id": "3b6b156b",
   "metadata": {},
   "outputs": [
    {
     "name": "stdout",
     "output_type": "stream",
     "text": [
      "input data:35576\n",
      "35576\n",
      "<class 'int'>\n"
     ]
    }
   ],
   "source": [
    "var=int(input(\"input data:\"))\n",
    "print(var)\n",
    "print(type(var))"
   ]
  },
  {
   "cell_type": "code",
   "execution_count": 4,
   "id": "681147da",
   "metadata": {},
   "outputs": [
    {
     "name": "stdout",
     "output_type": "stream",
     "text": [
      "input data:[4,4456,6787,88798]\n",
      "['[', '4', ',', '4', '4', '5', '6', ',', '6', '7', '8', '7', ',', '8', '8', '7', '9', '8', ']']\n",
      "<class 'list'>\n"
     ]
    }
   ],
   "source": [
    "var=list(input(\"input data:\"))\n",
    "print(var)\n",
    "print(type(var))"
   ]
  },
  {
   "cell_type": "code",
   "execution_count": 5,
   "id": "848b3ad0",
   "metadata": {},
   "outputs": [
    {
     "name": "stdout",
     "output_type": "stream",
     "text": [
      "input data:'uddhav'\n",
      "'uddhav'\n",
      "<class 'str'>\n"
     ]
    }
   ],
   "source": [
    "var=str(input(\"input data:\"))\n",
    "print(var)\n",
    "print(type(var))"
   ]
  },
  {
   "cell_type": "code",
   "execution_count": 6,
   "id": "35a35001",
   "metadata": {},
   "outputs": [
    {
     "name": "stdout",
     "output_type": "stream",
     "text": [
      "enter the data:'uddhav',4557\n"
     ]
    }
   ],
   "source": [
    "#eval()--- if input change datatype dynamically chnage \n",
    "data=eval(input('enter the data:'))"
   ]
  },
  {
   "cell_type": "code",
   "execution_count": 7,
   "id": "56552e54",
   "metadata": {},
   "outputs": [
    {
     "data": {
      "text/plain": [
       "tuple"
      ]
     },
     "execution_count": 7,
     "metadata": {},
     "output_type": "execute_result"
    }
   ],
   "source": [
    "type(data)"
   ]
  },
  {
   "cell_type": "code",
   "execution_count": 11,
   "id": "f4fd1d32",
   "metadata": {},
   "outputs": [
    {
     "name": "stdout",
     "output_type": "stream",
     "text": [
      "enter the data:100.22\n"
     ]
    }
   ],
   "source": [
    "var=eval(input('enter the data:'))"
   ]
  },
  {
   "cell_type": "code",
   "execution_count": 12,
   "id": "94261bde",
   "metadata": {},
   "outputs": [
    {
     "data": {
      "text/plain": [
       "float"
      ]
     },
     "execution_count": 12,
     "metadata": {},
     "output_type": "execute_result"
    }
   ],
   "source": [
    "type(var)"
   ]
  },
  {
   "cell_type": "code",
   "execution_count": 14,
   "id": "5341b9d7",
   "metadata": {},
   "outputs": [
    {
     "name": "stdout",
     "output_type": "stream",
     "text": [
      "enter the value:'uddhav Dahatonde'\n"
     ]
    }
   ],
   "source": [
    "# output ------------   we can use the print() to display output\n",
    "x=eval(input('enter the value:'))"
   ]
  },
  {
   "cell_type": "code",
   "execution_count": 15,
   "id": "c42ffcd0",
   "metadata": {},
   "outputs": [
    {
     "name": "stdout",
     "output_type": "stream",
     "text": [
      "uddhav Dahatonde\n"
     ]
    }
   ],
   "source": [
    "print(x)                         # here print is output function"
   ]
  },
  {
   "cell_type": "code",
   "execution_count": 20,
   "id": "cd1fbe16",
   "metadata": {},
   "outputs": [
    {
     "name": "stdout",
     "output_type": "stream",
     "text": [
      "enter the first no:1\n",
      "enter the second no:3\n",
      "enter the third no:5\n"
     ]
    },
    {
     "data": {
      "text/plain": [
       "5"
      ]
     },
     "execution_count": 20,
     "metadata": {},
     "output_type": "execute_result"
    }
   ],
   "source": [
    "# writr a programmer to find the biggest number of given 3 number \n",
    "\n",
    "def biggest_value():\n",
    "    if n1>=n2 and n1>=n3:\n",
    "        return n1\n",
    "    elif n2>=n1 and n2>=n3:\n",
    "        return n2\n",
    "    else:\n",
    "        return n3\n",
    "n1=int(input('enter the first no:'))\n",
    "n2=int(input('enter the second no:'))\n",
    "n3=int(input('enter the third no:'))\n",
    "\n",
    "biggest_value()\n",
    "    "
   ]
  },
  {
   "cell_type": "code",
   "execution_count": null,
   "id": "5ce9fc54",
   "metadata": {},
   "outputs": [],
   "source": []
  }
 ],
 "metadata": {
  "kernelspec": {
   "display_name": "Python 3 (ipykernel)",
   "language": "python",
   "name": "python3"
  },
  "language_info": {
   "codemirror_mode": {
    "name": "ipython",
    "version": 3
   },
   "file_extension": ".py",
   "mimetype": "text/x-python",
   "name": "python",
   "nbconvert_exporter": "python",
   "pygments_lexer": "ipython3",
   "version": "3.10.9"
  }
 },
 "nbformat": 4,
 "nbformat_minor": 5
}
