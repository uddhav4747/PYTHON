{
 "cells": [
  {
   "cell_type": "markdown",
   "id": "85cf605f",
   "metadata": {},
   "source": [
    "# input and output statement"
   ]
  },
  {
   "cell_type": "code",
   "execution_count": 1,
   "id": "e6d30910",
   "metadata": {},
   "outputs": [],
   "source": [
    "#reading dynamic input from keyboard \n",
    "#in python there are two function 1)input 2) row input()\n"
   ]
  },
  {
   "cell_type": "code",
   "execution_count": 8,
   "id": "7692f738",
   "metadata": {},
   "outputs": [
    {
     "name": "stdout",
     "output_type": "stream",
     "text": [
      "enter the data:445\n",
      "445\n",
      "<class 'str'>\n"
     ]
    }
   ],
   "source": [
    "#input()--input function is used to read thr data in our required format we are required type casting \n",
    "a=input('enter the data:')\n",
    "print(a)\n",
    "print(type(a))------#by default datatype is string "
   ]
  },
  {
   "cell_type": "code",
   "execution_count": 9,
   "id": "da46dd67",
   "metadata": {},
   "outputs": [],
   "source": [
    "# type casting :it is used to convert input datatype into appropriate data type"
   ]
  },
  {
   "cell_type": "code",
   "execution_count": 15,
   "id": "3b6b156b",
   "metadata": {},
   "outputs": [
    {
     "name": "stdout",
     "output_type": "stream",
     "text": [
      "input data:888\n",
      "888\n",
      "<class 'int'>\n"
     ]
    }
   ],
   "source": [
    "var=int(input(\"input data:\"))\n",
    "print(var)\n",
    "print(type(var))"
   ]
  },
  {
   "cell_type": "code",
   "execution_count": 19,
   "id": "681147da",
   "metadata": {},
   "outputs": [
    {
     "name": "stdout",
     "output_type": "stream",
     "text": [
      "input data:43243,4545,543,65,56565,6\n",
      "['4', '3', '2', '4', '3', ',', '4', '5', '4', '5', ',', '5', '4', '3', ',', '6', '5', ',', '5', '6', '5', '6', '5', ',', '6']\n",
      "<class 'list'>\n"
     ]
    }
   ],
   "source": [
    "var=list(input(\"input data:\"))\n",
    "print(var)\n",
    "print(type(var))"
   ]
  },
  {
   "cell_type": "code",
   "execution_count": 21,
   "id": "848b3ad0",
   "metadata": {},
   "outputs": [
    {
     "name": "stdout",
     "output_type": "stream",
     "text": [
      "input data:uddhav,dagyud\n",
      "uddhav,dagyud\n",
      "<class 'str'>\n"
     ]
    }
   ],
   "source": [
    "var=str(input(\"input data:\"))\n",
    "print(var)\n",
    "print(type(var))"
   ]
  },
  {
   "cell_type": "code",
   "execution_count": null,
   "id": "35a35001",
   "metadata": {},
   "outputs": [],
   "source": [
    "#eval()"
   ]
  }
 ],
 "metadata": {
  "kernelspec": {
   "display_name": "Python 3 (ipykernel)",
   "language": "python",
   "name": "python3"
  },
  "language_info": {
   "codemirror_mode": {
    "name": "ipython",
    "version": 3
   },
   "file_extension": ".py",
   "mimetype": "text/x-python",
   "name": "python",
   "nbconvert_exporter": "python",
   "pygments_lexer": "ipython3",
   "version": "3.10.9"
  }
 },
 "nbformat": 4,
 "nbformat_minor": 5
}
