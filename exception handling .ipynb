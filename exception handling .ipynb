{
 "cells": [
  {
   "cell_type": "code",
   "execution_count": 4,
   "id": "08831d03",
   "metadata": {},
   "outputs": [
    {
     "name": "stdout",
     "output_type": "stream",
     "text": [
      "Enter the number:20\n",
      "Enter the second number:2\n",
      "Division: 10.0\n",
      "Rest code\n"
     ]
    }
   ],
   "source": [
    "try:\n",
    "    a = int(input(\"Enter the number:\"))\n",
    "    b = int(input(\"Enter the second number:\"))\n",
    "    c =a/b\n",
    "    print(\"Division:\",c)\n",
    "except:\n",
    "    print(\"b shoudle not zero\")\n",
    "print(\"Rest code\")\n"
   ]
  },
  {
   "cell_type": "code",
   "execution_count": 7,
   "id": "546ecca6",
   "metadata": {},
   "outputs": [
    {
     "name": "stdout",
     "output_type": "stream",
     "text": [
      "enter the filenametext.csv\n",
      "filename : text.csv\n",
      "Date: 01-12-2023\n"
     ]
    }
   ],
   "source": [
    "filename=input('enter the filename')\n",
    "try:\n",
    "    date =  filename.split('_')[1].split(\".\")[0]\n",
    "    print(\"Filename :\",filename)\n",
    "    print(date)\n",
    "except:\n",
    "    date = '01-12-2023'\n",
    "    print(\"filename :\",filename)\n",
    "    print(\"Date:\",date)"
   ]
  },
  {
   "cell_type": "code",
   "execution_count": 8,
   "id": "f343797c",
   "metadata": {},
   "outputs": [
    {
     "name": "stdout",
     "output_type": "stream",
     "text": [
      "Enter the filename:uddhav.txt\n",
      "file not found so creating new file\n"
     ]
    }
   ],
   "source": [
    "try:\n",
    "    filename = input(\"Enter the filename:\")\n",
    "    fp = open(filename)\n",
    "    data = fp.read()\n",
    "    print(data)\n",
    "except FileNotFoundError as e:\n",
    "    print(\"file not found so creating new file\")\n",
    "    fp = open(filename,'w')\n",
    "    fp.write(\"new content\")\n",
    "    fp.close()\n",
    "    print('uddhav')"
   ]
  },
  {
   "cell_type": "code",
   "execution_count": 11,
   "id": "fc6ad942",
   "metadata": {},
   "outputs": [
    {
     "name": "stdout",
     "output_type": "stream",
     "text": [
      "Enter the number:100\n",
      "Enter the number:sdf\n",
      "please enter int value: invalid literal for int() with base 10: 'sdf'\n"
     ]
    }
   ],
   "source": [
    "try:\n",
    "#     fp = open(\"text.csv\",\"x\")\n",
    "    a = int(input(\"Enter the number:\"))\n",
    "    b= int(input(\"Enter the number:\"))\n",
    "    c  =a/b\n",
    "except ZeroDivisionError as msg:\n",
    "    print(\"please check denominator:\",msg)\n",
    "except ValueError as msg:\n",
    "    print(\"please enter int value:\",msg)\n",
    "except FileNotFoundError as msg:\n",
    "    print(\"file is not available at given location,check filename:\",msg)\n",
    "except FileExistsError as msg:\n",
    "    print(\"please check file name:\",msg)"
   ]
  },
  {
   "cell_type": "code",
   "execution_count": null,
   "id": "81cba937",
   "metadata": {},
   "outputs": [],
   "source": []
  }
 ],
 "metadata": {
  "kernelspec": {
   "display_name": "Python 3 (ipykernel)",
   "language": "python",
   "name": "python3"
  },
  "language_info": {
   "codemirror_mode": {
    "name": "ipython",
    "version": 3
   },
   "file_extension": ".py",
   "mimetype": "text/x-python",
   "name": "python",
   "nbconvert_exporter": "python",
   "pygments_lexer": "ipython3",
   "version": "3.10.9"
  }
 },
 "nbformat": 4,
 "nbformat_minor": 5
}
