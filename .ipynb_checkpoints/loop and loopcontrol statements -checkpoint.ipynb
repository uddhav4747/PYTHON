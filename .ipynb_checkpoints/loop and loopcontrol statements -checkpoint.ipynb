{
 "cells": [
  {
   "cell_type": "code",
   "execution_count": 1,
   "id": "fc0e3355",
   "metadata": {},
   "outputs": [],
   "source": [
    "# if we want too execucute a group of statements multiple time then we can go for iterartive statements \n",
    "# 1-- for loop  ---execucate some actions on every elements of collection then go for for loop\n",
    "# 2 -- while loop"
   ]
  },
  {
   "cell_type": "code",
   "execution_count": 2,
   "id": "cf6fdb53",
   "metadata": {},
   "outputs": [],
   "source": [
    "# syntax-- for i in (variable /sequence):\n",
    "#                   stateemt"
   ]
  },
  {
   "cell_type": "code",
   "execution_count": 4,
   "id": "f5c2fd2d",
   "metadata": {},
   "outputs": [],
   "source": [
    "list_data=['uddhav',3445.65,77,77,7,78788989,998,77,8,9889,78,768,4,'dahatonde']"
   ]
  },
  {
   "cell_type": "code",
   "execution_count": 5,
   "id": "28d467a7",
   "metadata": {},
   "outputs": [
    {
     "name": "stdout",
     "output_type": "stream",
     "text": [
      "uddhav\n",
      "3445.65\n",
      "77\n",
      "77\n",
      "7\n",
      "78788989\n",
      "998\n",
      "77\n",
      "8\n",
      "9889\n",
      "78\n",
      "768\n",
      "4\n",
      "dahatonde\n"
     ]
    }
   ],
   "source": [
    "for i in list_data:\n",
    "    print(i)"
   ]
  },
  {
   "cell_type": "code",
   "execution_count": null,
   "id": "a8cc7e51",
   "metadata": {},
   "outputs": [],
   "source": [
    "# create table of 2 using loop \n",
    "l=[1,2,3,4,5,6,7,8,9,10]\n",
    "for i in l:\n",
    "    a=i*2\n",
    "    print(a)"
   ]
  },
  {
   "cell_type": "code",
   "execution_count": 28,
   "id": "6fdce3ab",
   "metadata": {},
   "outputs": [
    {
     "name": "stdout",
     "output_type": "stream",
     "text": [
      "0\n",
      "2\n",
      "4\n",
      "6\n",
      "8\n",
      "10\n",
      "12\n",
      "14\n",
      "16\n",
      "18\n"
     ]
    }
   ],
   "source": [
    " for i in range (0,20,2):\n",
    "    print(i)"
   ]
  },
  {
   "cell_type": "markdown",
   "id": "b6fa04b4",
   "metadata": {},
   "source": [
    "# while loop"
   ]
  },
  {
   "cell_type": "code",
   "execution_count": null,
   "id": "a22eb626",
   "metadata": {},
   "outputs": [],
   "source": [
    "# if we want to execucute a group of statement iteratively until some condition false then should go for while loop condition"
   ]
  },
  {
   "cell_type": "code",
   "execution_count": 1,
   "id": "55aa5691",
   "metadata": {},
   "outputs": [],
   "source": [
    "# syntax= while condition:\n",
    "#      ststement"
   ]
  },
  {
   "cell_type": "code",
   "execution_count": 2,
   "id": "8c751321",
   "metadata": {},
   "outputs": [],
   "source": [
    "# print number 1 to 10 by using while loop"
   ]
  },
  {
   "cell_type": "code",
   "execution_count": 3,
   "id": "cd689d1f",
   "metadata": {},
   "outputs": [
    {
     "name": "stdout",
     "output_type": "stream",
     "text": [
      "1\n",
      "2\n",
      "3\n",
      "4\n",
      "5\n",
      "6\n",
      "7\n",
      "8\n",
      "9\n"
     ]
    }
   ],
   "source": [
    "x=1\n",
    "while x<10:\n",
    "    print(x)\n",
    "    x=x+1\n"
   ]
  },
  {
   "cell_type": "code",
   "execution_count": 8,
   "id": "62d755dd",
   "metadata": {},
   "outputs": [],
   "source": [
    "\n",
    "files = ['test.csv','python.pdf','asdfsadfsdf','hadoop.csv','ml.pdf','dl.csv','copper.xlsx','test.pdf','sample.xlsx','sdfaasdfasdfsdsdf']"
   ]
  },
  {
   "cell_type": "code",
   "execution_count": 15,
   "id": "56573278",
   "metadata": {},
   "outputs": [],
   "source": [
    "csv=[]\n",
    "pdf=[]\n",
    "xlxs=[]\n",
    "invalid_file=[]\n",
    "\n",
    "for i in files :\n",
    "    if i.endswith('.csv'):\n",
    "        csv.append(i)\n",
    "    elif i.endswith('xlsx'):\n",
    "        xlxs.append(i)\n",
    "    elif i.endswith('.pdf'):\n",
    "        pdf.append(i)\n",
    "    else:\n",
    "        invalid_file.append(i)"
   ]
  },
  {
   "cell_type": "code",
   "execution_count": 16,
   "id": "f962d607",
   "metadata": {},
   "outputs": [
    {
     "data": {
      "text/plain": [
       "['asdfsadfsdf', 'sdfaasdfasdfsdsdf']"
      ]
     },
     "execution_count": 16,
     "metadata": {},
     "output_type": "execute_result"
    }
   ],
   "source": [
    "invalid_file"
   ]
  },
  {
   "cell_type": "code",
   "execution_count": 13,
   "id": "7c5c6174",
   "metadata": {},
   "outputs": [
    {
     "data": {
      "text/plain": [
       "['test.csv', 'hadoop.csv', 'dl.csv']"
      ]
     },
     "execution_count": 13,
     "metadata": {},
     "output_type": "execute_result"
    }
   ],
   "source": [
    "csv"
   ]
  },
  {
   "cell_type": "code",
   "execution_count": 17,
   "id": "5df57467",
   "metadata": {},
   "outputs": [
    {
     "data": {
      "text/plain": [
       "['copper.xlsx', 'sample.xlsx']"
      ]
     },
     "execution_count": 17,
     "metadata": {},
     "output_type": "execute_result"
    }
   ],
   "source": [
    "xlxs"
   ]
  },
  {
   "cell_type": "code",
   "execution_count": 21,
   "id": "57bcdc5b",
   "metadata": {},
   "outputs": [
    {
     "name": "stdout",
     "output_type": "stream",
     "text": [
      "enter your number :10\n",
      "the sum of first n number is : 45\n"
     ]
    }
   ],
   "source": [
    "# to display the  sum of first n numbers \n",
    "n=int(input('enter your number :'))\n",
    "sum=0\n",
    "initial=1\n",
    "while initial<n:\n",
    "    sum=sum+initial\n",
    "    initial=initial+1\n",
    "    \n",
    "print('the sum of first n number is :',sum)\n",
    "\n"
   ]
  },
  {
   "cell_type": "markdown",
   "id": "f6ef37bd",
   "metadata": {},
   "source": [
    "# loop trasfer statement :\n",
    "#1 break"
   ]
  },
  {
   "cell_type": "code",
   "execution_count": 22,
   "id": "5226800d",
   "metadata": {},
   "outputs": [],
   "source": [
    "#  break statement inside the loop execution based on  some condition"
   ]
  },
  {
   "cell_type": "code",
   "execution_count": 6,
   "id": "26788e13",
   "metadata": {},
   "outputs": [
    {
     "name": "stdout",
     "output_type": "stream",
     "text": [
      "1\n",
      "2\n",
      "3\n",
      "4\n",
      "5\n",
      "6\n"
     ]
    }
   ],
   "source": [
    " for i in range (1,17):\n",
    "        if i==7:\n",
    "            break\n",
    "        print(i)"
   ]
  },
  {
   "cell_type": "markdown",
   "id": "b2668d96",
   "metadata": {},
   "source": [
    "# continue"
   ]
  },
  {
   "cell_type": "code",
   "execution_count": 7,
   "id": "a75df5c1",
   "metadata": {},
   "outputs": [],
   "source": [
    "# we can use the continue statement to skip current iteration and continue next iteration "
   ]
  },
  {
   "cell_type": "code",
   "execution_count": 8,
   "id": "c9c48f58",
   "metadata": {},
   "outputs": [
    {
     "name": "stdout",
     "output_type": "stream",
     "text": [
      "1\n",
      "3\n",
      "5\n",
      "7\n",
      "9\n",
      "11\n",
      "13\n",
      "15\n",
      "17\n",
      "19\n"
     ]
    }
   ],
   "source": [
    "# print odd number in range \n",
    "for i in range(0,21):\n",
    "    if i%2==0:\n",
    "        continue \n",
    "    print(i)"
   ]
  },
  {
   "cell_type": "code",
   "execution_count": null,
   "id": "e18fa821",
   "metadata": {
    "code_folding": []
   },
   "outputs": [],
   "source": []
  },
  {
   "cell_type": "code",
   "execution_count": null,
   "id": "f9d765ee",
   "metadata": {},
   "outputs": [],
   "source": []
  }
 ],
 "metadata": {
  "kernelspec": {
   "display_name": "Python 3 (ipykernel)",
   "language": "python",
   "name": "python3"
  },
  "language_info": {
   "codemirror_mode": {
    "name": "ipython",
    "version": 3
   },
   "file_extension": ".py",
   "mimetype": "text/x-python",
   "name": "python",
   "nbconvert_exporter": "python",
   "pygments_lexer": "ipython3",
   "version": "3.10.9"
  }
 },
 "nbformat": 4,
 "nbformat_minor": 5
}
