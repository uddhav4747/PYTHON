{
 "cells": [
  {
   "cell_type": "markdown",
   "id": "be056ae9",
   "metadata": {},
   "source": [
    "# set"
   ]
  },
  {
   "cell_type": "code",
   "execution_count": null,
   "id": "e7284f94",
   "metadata": {},
   "outputs": [],
   "source": [
    " # if we wnat to represent group of valu without duplicate where insertation order\n",
    "    #is not importanant then we gofor set data type \n",
    "    "
   ]
  },
  {
   "cell_type": "code",
   "execution_count": 1,
   "id": "c7e9158a",
   "metadata": {},
   "outputs": [],
   "source": [
    "# insertaion order is not preserved \n",
    "# duplicacte are not allowed \n",
    "# hetrogeneous object are allowed \n",
    "# index concept is not possible due to insertion order is not preservred\n",
    "# set is mutable (can change value of set )\n",
    "# growable in nature "
   ]
  },
  {
   "cell_type": "code",
   "execution_count": 28,
   "id": "eac2f2ed",
   "metadata": {},
   "outputs": [],
   "source": [
    "# set is presented into {}"
   ]
  },
  {
   "cell_type": "code",
   "execution_count": 52,
   "id": "1b3f8725",
   "metadata": {},
   "outputs": [],
   "source": [
    "a={1,3,4,5,6,7,'uddhav','ajay',33,6457,'raju',11,45,77}"
   ]
  },
  {
   "cell_type": "code",
   "execution_count": 53,
   "id": "37f28b64",
   "metadata": {},
   "outputs": [
    {
     "data": {
      "text/plain": [
       "set"
      ]
     },
     "execution_count": 53,
     "metadata": {},
     "output_type": "execute_result"
    }
   ],
   "source": [
    "type(a)"
   ]
  },
  {
   "cell_type": "code",
   "execution_count": 54,
   "id": "7e25f4a8",
   "metadata": {},
   "outputs": [
    {
     "data": {
      "text/plain": [
       "['__and__',\n",
       " '__class__',\n",
       " '__class_getitem__',\n",
       " '__contains__',\n",
       " '__delattr__',\n",
       " '__dir__',\n",
       " '__doc__',\n",
       " '__eq__',\n",
       " '__format__',\n",
       " '__ge__',\n",
       " '__getattribute__',\n",
       " '__gt__',\n",
       " '__hash__',\n",
       " '__iand__',\n",
       " '__init__',\n",
       " '__init_subclass__',\n",
       " '__ior__',\n",
       " '__isub__',\n",
       " '__iter__',\n",
       " '__ixor__',\n",
       " '__le__',\n",
       " '__len__',\n",
       " '__lt__',\n",
       " '__ne__',\n",
       " '__new__',\n",
       " '__or__',\n",
       " '__rand__',\n",
       " '__reduce__',\n",
       " '__reduce_ex__',\n",
       " '__repr__',\n",
       " '__ror__',\n",
       " '__rsub__',\n",
       " '__rxor__',\n",
       " '__setattr__',\n",
       " '__sizeof__',\n",
       " '__str__',\n",
       " '__sub__',\n",
       " '__subclasshook__',\n",
       " '__xor__',\n",
       " 'add',\n",
       " 'clear',\n",
       " 'copy',\n",
       " 'difference',\n",
       " 'difference_update',\n",
       " 'discard',\n",
       " 'intersection',\n",
       " 'intersection_update',\n",
       " 'isdisjoint',\n",
       " 'issubset',\n",
       " 'issuperset',\n",
       " 'pop',\n",
       " 'remove',\n",
       " 'symmetric_difference',\n",
       " 'symmetric_difference_update',\n",
       " 'union',\n",
       " 'update']"
      ]
     },
     "execution_count": 54,
     "metadata": {},
     "output_type": "execute_result"
    }
   ],
   "source": [
    "dir(a)"
   ]
  },
  {
   "cell_type": "code",
   "execution_count": 50,
   "id": "74baf69a",
   "metadata": {},
   "outputs": [],
   "source": [
    "#1 Add ------------ add item in set \n",
    "a.add('sadu')"
   ]
  },
  {
   "cell_type": "code",
   "execution_count": 55,
   "id": "47497e47",
   "metadata": {},
   "outputs": [
    {
     "data": {
      "text/plain": [
       "{1, 11, 3, 33, 4, 45, 5, 6, 6457, 7, 77, 'ajay', 'raju', 'uddhav'}"
      ]
     },
     "execution_count": 55,
     "metadata": {},
     "output_type": "execute_result"
    }
   ],
   "source": [
    "a"
   ]
  },
  {
   "cell_type": "code",
   "execution_count": 33,
   "id": "97ea94ce",
   "metadata": {},
   "outputs": [
    {
     "data": {
      "text/plain": [
       "set()"
      ]
     },
     "execution_count": 33,
     "metadata": {},
     "output_type": "execute_result"
    }
   ],
   "source": [
    "#2  clear   to remove all the element from the set \n",
    "a.clear()\n",
    "a"
   ]
  },
  {
   "cell_type": "code",
   "execution_count": null,
   "id": "4b76d884",
   "metadata": {},
   "outputs": [],
   "source": []
  },
  {
   "cell_type": "code",
   "execution_count": 34,
   "id": "49686b45",
   "metadata": {},
   "outputs": [],
   "source": [
    "# 3 copy()  -- cretae a mirror imange in anothr varibale "
   ]
  },
  {
   "cell_type": "code",
   "execution_count": 56,
   "id": "806023f5",
   "metadata": {},
   "outputs": [
    {
     "data": {
      "text/plain": [
       "{1, 11, 3, 33, 4, 45, 5, 6, 6457, 7, 77, 'ajay', 'raju', 'uddhav'}"
      ]
     },
     "execution_count": 56,
     "metadata": {},
     "output_type": "execute_result"
    }
   ],
   "source": [
    "b=a.copy()\n",
    "b                                # is mirror copy of variable a"
   ]
  },
  {
   "cell_type": "code",
   "execution_count": null,
   "id": "663b5e9f",
   "metadata": {},
   "outputs": [],
   "source": []
  },
  {
   "cell_type": "code",
   "execution_count": 57,
   "id": "0e10b789",
   "metadata": {},
   "outputs": [
    {
     "name": "stdout",
     "output_type": "stream",
     "text": [
      "set()\n"
     ]
    }
   ],
   "source": [
    "# 4 difference ()------ return the element present in \"a\" but nnot in \"b\"\n",
    "\n",
    "x=a.difference(b)\n",
    "print(x)"
   ]
  },
  {
   "cell_type": "code",
   "execution_count": 58,
   "id": "bd85340d",
   "metadata": {},
   "outputs": [
    {
     "data": {
      "text/plain": [
       "set()"
      ]
     },
     "execution_count": 58,
     "metadata": {},
     "output_type": "execute_result"
    }
   ],
   "source": [
    "q=b.difference(a)   # it mean all element from b is present in 'A'\n",
    "q"
   ]
  },
  {
   "cell_type": "code",
   "execution_count": 59,
   "id": "9b8022c7",
   "metadata": {},
   "outputs": [
    {
     "data": {
      "text/plain": [
       "{1, 11, 3, 33, 4, 45, 5, 6, 6457, 7, 77, 'ajay', 'raju', 'uddhav'}"
      ]
     },
     "execution_count": 59,
     "metadata": {},
     "output_type": "execute_result"
    }
   ],
   "source": [
    "#5  discad  -------it remove the specific element from the set \n",
    "# if specific element not present in set we got error \n",
    "b"
   ]
  },
  {
   "cell_type": "code",
   "execution_count": 60,
   "id": "d32f9798",
   "metadata": {},
   "outputs": [
    {
     "data": {
      "text/plain": [
       "{1, 11, 3, 4, 45, 5, 6, 6457, 7, 77, 'ajay', 'raju', 'uddhav'}"
      ]
     },
     "execution_count": 60,
     "metadata": {},
     "output_type": "execute_result"
    }
   ],
   "source": [
    "b.discard(33)\n",
    "b                        # 33 element is discarded "
   ]
  },
  {
   "cell_type": "code",
   "execution_count": 40,
   "id": "784e2de0",
   "metadata": {},
   "outputs": [
    {
     "ename": "KeyError",
     "evalue": "'pop from an empty set'",
     "output_type": "error",
     "traceback": [
      "\u001b[1;31m---------------------------------------------------------------------------\u001b[0m",
      "\u001b[1;31mKeyError\u001b[0m                                  Traceback (most recent call last)",
      "Cell \u001b[1;32mIn[40], line 2\u001b[0m\n\u001b[0;32m      1\u001b[0m \u001b[38;5;66;03m#6  pop ----it remove and return some random element from set \u001b[39;00m\n\u001b[1;32m----> 2\u001b[0m \u001b[43mb\u001b[49m\u001b[38;5;241;43m.\u001b[39;49m\u001b[43mpop\u001b[49m\u001b[43m(\u001b[49m\u001b[43m)\u001b[49m\n",
      "\u001b[1;31mKeyError\u001b[0m: 'pop from an empty set'"
     ]
    }
   ],
   "source": [
    "#6  pop ----it remove and return some random element from set \n",
    "b.pop() "
   ]
  },
  {
   "cell_type": "code",
   "execution_count": 61,
   "id": "62f0e662",
   "metadata": {},
   "outputs": [
    {
     "data": {
      "text/plain": [
       "{1, 11, 3, 4, 45, 5, 6, 6457, 7, 77, 'ajay', 'raju', 'uddhav'}"
      ]
     },
     "execution_count": 61,
     "metadata": {},
     "output_type": "execute_result"
    }
   ],
   "source": [
    "b"
   ]
  },
  {
   "cell_type": "code",
   "execution_count": 16,
   "id": "8f8c3353",
   "metadata": {},
   "outputs": [],
   "source": [
    "#7  remove() --------it will remove specified element from the set  if element not present in set it will give the error "
   ]
  },
  {
   "cell_type": "code",
   "execution_count": 62,
   "id": "2cd7898e",
   "metadata": {},
   "outputs": [],
   "source": [
    "b.remove('uddhav')"
   ]
  },
  {
   "cell_type": "code",
   "execution_count": 63,
   "id": "3c225d79",
   "metadata": {},
   "outputs": [
    {
     "data": {
      "text/plain": [
       "{1, 11, 3, 4, 45, 5, 6, 6457, 7, 77, 'ajay', 'raju'}"
      ]
     },
     "execution_count": 63,
     "metadata": {},
     "output_type": "execute_result"
    }
   ],
   "source": [
    "b # uddhav is already removed "
   ]
  },
  {
   "cell_type": "code",
   "execution_count": 64,
   "id": "d81e92fa",
   "metadata": {},
   "outputs": [
    {
     "data": {
      "text/plain": [
       "{1, 11, 3, 4, 45, 5, 6, 6457, 7, 77, 'ajay', 'raju'}"
      ]
     },
     "execution_count": 64,
     "metadata": {},
     "output_type": "execute_result"
    }
   ],
   "source": [
    "# 8 intersection--------return comman elelment present in both set \n",
    "a.intersection(b)"
   ]
  },
  {
   "cell_type": "code",
   "execution_count": 65,
   "id": "8416f41e",
   "metadata": {},
   "outputs": [
    {
     "data": {
      "text/plain": [
       "{1, 11, 3, 33, 4, 45, 5, 6, 6457, 7, 77, 'ajay', 'raju', 'uddhav'}"
      ]
     },
     "execution_count": 65,
     "metadata": {},
     "output_type": "execute_result"
    }
   ],
   "source": [
    "#9 union()------  used to return all  unique  element present in both set \n",
    "a.union(b)"
   ]
  },
  {
   "cell_type": "code",
   "execution_count": 66,
   "id": "4b5ed57d",
   "metadata": {},
   "outputs": [],
   "source": [
    "#10  update()-------to add multiple item to the set \n",
    "b.update()"
   ]
  },
  {
   "cell_type": "code",
   "execution_count": 67,
   "id": "c2962580",
   "metadata": {},
   "outputs": [
    {
     "data": {
      "text/plain": [
       "{1, 11, 3, 4, 45, 5, 6, 6457, 7, 77, 'ajay', 'raju'}"
      ]
     },
     "execution_count": 67,
     "metadata": {},
     "output_type": "execute_result"
    }
   ],
   "source": [
    "b"
   ]
  },
  {
   "cell_type": "code",
   "execution_count": 68,
   "id": "e6ebf4ca",
   "metadata": {},
   "outputs": [],
   "source": [
    "b.update()"
   ]
  },
  {
   "cell_type": "code",
   "execution_count": 69,
   "id": "597d0434",
   "metadata": {},
   "outputs": [
    {
     "name": "stdout",
     "output_type": "stream",
     "text": [
      "{1, 3, 4, 5, 6, 7, 11, 45, 77, 'raju', 6457, 'ajay'}\n"
     ]
    }
   ],
   "source": [
    "print(b)"
   ]
  },
  {
   "cell_type": "code",
   "execution_count": null,
   "id": "cf3e11f4",
   "metadata": {},
   "outputs": [],
   "source": []
  }
 ],
 "metadata": {
  "kernelspec": {
   "display_name": "Python 3 (ipykernel)",
   "language": "python",
   "name": "python3"
  },
  "language_info": {
   "codemirror_mode": {
    "name": "ipython",
    "version": 3
   },
   "file_extension": ".py",
   "mimetype": "text/x-python",
   "name": "python",
   "nbconvert_exporter": "python",
   "pygments_lexer": "ipython3",
   "version": "3.10.9"
  }
 },
 "nbformat": 4,
 "nbformat_minor": 5
}
