{
 "cells": [
  {
   "cell_type": "code",
   "execution_count": 2,
   "id": "8ed8121f",
   "metadata": {},
   "outputs": [],
   "source": [
    "#list\n",
    "# insertion oreder is preserved\n",
    "#duplicate allowed \n",
    "# growable in nature \n",
    "# hetrogeneous object are allowed \n",
    "list=[1,2,3,4,5,'uddhav','sadu',True,False,11.34,]"
   ]
  },
  {
   "cell_type": "code",
   "execution_count": 3,
   "id": "5e1e5d15",
   "metadata": {},
   "outputs": [
    {
     "data": {
      "text/plain": [
       "[1, 2, 3, 4, 5, 'uddhav', 'sadu', True, False, 11.34]"
      ]
     },
     "execution_count": 3,
     "metadata": {},
     "output_type": "execute_result"
    }
   ],
   "source": [
    "list\n"
   ]
  },
  {
   "cell_type": "code",
   "execution_count": 4,
   "id": "90590ce4",
   "metadata": {},
   "outputs": [
    {
     "data": {
      "text/plain": [
       "['__add__',\n",
       " '__class__',\n",
       " '__class_getitem__',\n",
       " '__contains__',\n",
       " '__delattr__',\n",
       " '__delitem__',\n",
       " '__dir__',\n",
       " '__doc__',\n",
       " '__eq__',\n",
       " '__format__',\n",
       " '__ge__',\n",
       " '__getattribute__',\n",
       " '__getitem__',\n",
       " '__gt__',\n",
       " '__hash__',\n",
       " '__iadd__',\n",
       " '__imul__',\n",
       " '__init__',\n",
       " '__init_subclass__',\n",
       " '__iter__',\n",
       " '__le__',\n",
       " '__len__',\n",
       " '__lt__',\n",
       " '__mul__',\n",
       " '__ne__',\n",
       " '__new__',\n",
       " '__reduce__',\n",
       " '__reduce_ex__',\n",
       " '__repr__',\n",
       " '__reversed__',\n",
       " '__rmul__',\n",
       " '__setattr__',\n",
       " '__setitem__',\n",
       " '__sizeof__',\n",
       " '__str__',\n",
       " '__subclasshook__',\n",
       " 'append',\n",
       " 'clear',\n",
       " 'copy',\n",
       " 'count',\n",
       " 'extend',\n",
       " 'index',\n",
       " 'insert',\n",
       " 'pop',\n",
       " 'remove',\n",
       " 'reverse',\n",
       " 'sort']"
      ]
     },
     "execution_count": 4,
     "metadata": {},
     "output_type": "execute_result"
    }
   ],
   "source": [
    "# function of list \n",
    "dir(list)\n"
   ]
  },
  {
   "cell_type": "code",
   "execution_count": 5,
   "id": "072842ed",
   "metadata": {},
   "outputs": [],
   "source": [
    "#append -- to add element at end of list\n",
    "list.append(555)"
   ]
  },
  {
   "cell_type": "code",
   "execution_count": 6,
   "id": "1c90a1bd",
   "metadata": {},
   "outputs": [
    {
     "data": {
      "text/plain": [
       "[1, 2, 3, 4, 5, 'uddhav', 'sadu', True, False, 11.34, 555]"
      ]
     },
     "execution_count": 6,
     "metadata": {},
     "output_type": "execute_result"
    }
   ],
   "source": [
    "list"
   ]
  },
  {
   "cell_type": "code",
   "execution_count": 7,
   "id": "df8bda61",
   "metadata": {},
   "outputs": [
    {
     "data": {
      "text/plain": [
       "11"
      ]
     },
     "execution_count": 7,
     "metadata": {},
     "output_type": "execute_result"
    }
   ],
   "source": [
    "len(list)   # number if element in list"
   ]
  },
  {
   "cell_type": "code",
   "execution_count": 9,
   "id": "afaabc48",
   "metadata": {},
   "outputs": [
    {
     "data": {
      "text/plain": [
       "1"
      ]
     },
     "execution_count": 9,
     "metadata": {},
     "output_type": "execute_result"
    }
   ],
   "source": [
    "list.count(3)  # it count element count in list "
   ]
  },
  {
   "cell_type": "code",
   "execution_count": 12,
   "id": "c8b2122f",
   "metadata": {},
   "outputs": [],
   "source": [
    "list.append([1,2,3,4,5])"
   ]
  },
  {
   "cell_type": "code",
   "execution_count": 14,
   "id": "92cb8eb7",
   "metadata": {},
   "outputs": [
    {
     "data": {
      "text/plain": [
       "6"
      ]
     },
     "execution_count": 14,
     "metadata": {},
     "output_type": "execute_result"
    }
   ],
   "source": [
    "list.index('sadu')  # it will show the index number of first occurance element "
   ]
  },
  {
   "cell_type": "code",
   "execution_count": 15,
   "id": "82ea1465",
   "metadata": {},
   "outputs": [
    {
     "data": {
      "text/plain": [
       "[1, 2, 3, 4, 5, 'uddhav', 'sadu', True, False, 11.34, 555, [1, 2, 3, 4, 5]]"
      ]
     },
     "execution_count": 15,
     "metadata": {},
     "output_type": "execute_result"
    }
   ],
   "source": [
    "# insert \n",
    "list"
   ]
  },
  {
   "cell_type": "code",
   "execution_count": 21,
   "id": "52027ca5",
   "metadata": {},
   "outputs": [],
   "source": [
    "list.insert(2,'inserted_value')   # insert value of specific index position"
   ]
  },
  {
   "cell_type": "code",
   "execution_count": 22,
   "id": "3f4ffe83",
   "metadata": {},
   "outputs": [
    {
     "data": {
      "text/plain": [
       "[1,\n",
       " 2,\n",
       " 'inserted_value',\n",
       " 'inserted_value',\n",
       " 'inserted value',\n",
       " 3,\n",
       " 4,\n",
       " 5,\n",
       " 'uddhav',\n",
       " 'sadu',\n",
       " True,\n",
       " False,\n",
       " 11.34,\n",
       " 555,\n",
       " [1, 2, 3, 4, 5]]"
      ]
     },
     "execution_count": 22,
     "metadata": {},
     "output_type": "execute_result"
    }
   ],
   "source": [
    "list"
   ]
  },
  {
   "cell_type": "code",
   "execution_count": 38,
   "id": "3cd67775",
   "metadata": {},
   "outputs": [
    {
     "data": {
      "text/plain": [
       "[1,\n",
       " 2,\n",
       " 'inserted_value',\n",
       " 'inserted_value',\n",
       " 'inserted value',\n",
       " 3,\n",
       " 4,\n",
       " 5,\n",
       " 'uddhav',\n",
       " 'sadu',\n",
       " True,\n",
       " False,\n",
       " 11.34,\n",
       " 555,\n",
       " [1, 2, 3, 4, 5],\n",
       " 'n',\n",
       " 'e',\n",
       " 'w',\n",
       " '_',\n",
       " 'l',\n",
       " 'i',\n",
       " 's',\n",
       " 't',\n",
       " 'n',\n",
       " 'e',\n",
       " 'w',\n",
       " '_',\n",
       " 'l',\n",
       " 'i',\n",
       " 's',\n",
       " 't',\n",
       " 'n',\n",
       " 'e',\n",
       " 'w',\n",
       " '_',\n",
       " 'l',\n",
       " 'i',\n",
       " 's',\n",
       " 't',\n",
       " 'n',\n",
       " 'e',\n",
       " 'w',\n",
       " '_',\n",
       " 'l',\n",
       " 'i',\n",
       " 's',\n",
       " 't']"
      ]
     },
     "execution_count": 38,
     "metadata": {},
     "output_type": "execute_result"
    }
   ],
   "source": [
    "# extend ---- add item of one list to another list\n",
    "list"
   ]
  },
  {
   "cell_type": "code",
   "execution_count": 37,
   "id": "ed628919",
   "metadata": {},
   "outputs": [
    {
     "data": {
      "text/plain": [
       "[1,\n",
       " 2,\n",
       " 3,\n",
       " 4,\n",
       " 1,\n",
       " 2,\n",
       " 'inserted_value',\n",
       " 'inserted_value',\n",
       " 'inserted value',\n",
       " 3,\n",
       " 4,\n",
       " 5,\n",
       " 'uddhav',\n",
       " 'sadu',\n",
       " True,\n",
       " False,\n",
       " 11.34,\n",
       " 555,\n",
       " [1, 2, 3, 4, 5],\n",
       " 'n',\n",
       " 'e',\n",
       " 'w',\n",
       " '_',\n",
       " 'l',\n",
       " 'i',\n",
       " 's',\n",
       " 't',\n",
       " 'n',\n",
       " 'e',\n",
       " 'w',\n",
       " '_',\n",
       " 'l',\n",
       " 'i',\n",
       " 's',\n",
       " 't',\n",
       " 'n',\n",
       " 'e',\n",
       " 'w',\n",
       " '_',\n",
       " 'l',\n",
       " 'i',\n",
       " 's',\n",
       " 't',\n",
       " 'n',\n",
       " 'e',\n",
       " 'w',\n",
       " '_',\n",
       " 'l',\n",
       " 'i',\n",
       " 's',\n",
       " 't']"
      ]
     },
     "execution_count": 37,
     "metadata": {},
     "output_type": "execute_result"
    }
   ],
   "source": [
    "new_list"
   ]
  },
  {
   "cell_type": "code",
   "execution_count": 40,
   "id": "bc6cc156",
   "metadata": {},
   "outputs": [
    {
     "data": {
      "text/plain": [
       "[1,\n",
       " 2,\n",
       " 'inserted_value',\n",
       " 'inserted_value',\n",
       " 'inserted value',\n",
       " 3,\n",
       " 4,\n",
       " 5,\n",
       " 'uddhav',\n",
       " 'sadu',\n",
       " True,\n",
       " False,\n",
       " 11.34,\n",
       " 555,\n",
       " [1, 2, 3, 4, 5]]"
      ]
     },
     "execution_count": 40,
     "metadata": {},
     "output_type": "execute_result"
    }
   ],
   "source": [
    "a=[1,\n",
    " 2,\n",
    " 'inserted_value',\n",
    " 'inserted_value',\n",
    " 'inserted value',\n",
    " 3,\n",
    " 4,\n",
    " 5,\n",
    " 'uddhav',\n",
    " 'sadu',\n",
    " True,\n",
    " False,\n",
    " 11.34,\n",
    " 555,\n",
    " [1, 2, 3, 4, 5]]\n",
    "# extend ---- add item of one list to another list\n",
    "a\n"
   ]
  },
  {
   "cell_type": "code",
   "execution_count": 41,
   "id": "0c18501e",
   "metadata": {},
   "outputs": [
    {
     "data": {
      "text/plain": [
       "list"
      ]
     },
     "execution_count": 41,
     "metadata": {},
     "output_type": "execute_result"
    }
   ],
   "source": [
    "b=[]\n",
    "type(b)"
   ]
  },
  {
   "cell_type": "code",
   "execution_count": 42,
   "id": "4790fa01",
   "metadata": {},
   "outputs": [],
   "source": [
    "b.extend(a)"
   ]
  },
  {
   "cell_type": "code",
   "execution_count": 51,
   "id": "948d8471",
   "metadata": {},
   "outputs": [
    {
     "data": {
      "text/plain": [
       "[1,\n",
       " 'inserted_value',\n",
       " 'inserted_value',\n",
       " 'inserted value',\n",
       " 4,\n",
       " 5,\n",
       " 'uddhav',\n",
       " 'sadu',\n",
       " True,\n",
       " False,\n",
       " 11.34,\n",
       " 555,\n",
       " [1, 2, 3, 4, 5]]"
      ]
     },
     "execution_count": 51,
     "metadata": {},
     "output_type": "execute_result"
    }
   ],
   "source": [
    "b"
   ]
  },
  {
   "cell_type": "code",
   "execution_count": 49,
   "id": "8803aec5",
   "metadata": {},
   "outputs": [
    {
     "ename": "ValueError",
     "evalue": "list.remove(x): x not in list",
     "output_type": "error",
     "traceback": [
      "\u001b[1;31m---------------------------------------------------------------------------\u001b[0m",
      "\u001b[1;31mValueError\u001b[0m                                Traceback (most recent call last)",
      "Cell \u001b[1;32mIn[49], line 1\u001b[0m\n\u001b[1;32m----> 1\u001b[0m \u001b[43mb\u001b[49m\u001b[38;5;241;43m.\u001b[39;49m\u001b[43mremove\u001b[49m\u001b[43m(\u001b[49m\u001b[38;5;241;43m2\u001b[39;49m\u001b[43m)\u001b[49m\n",
      "\u001b[1;31mValueError\u001b[0m: list.remove(x): x not in list"
     ]
    }
   ],
   "source": [
    "b.remove(2)   # it will remove first occurance of this element "
   ]
  },
  {
   "cell_type": "code",
   "execution_count": 54,
   "id": "44b70539",
   "metadata": {},
   "outputs": [],
   "source": [
    "b.remove('inserted_value',)  # it remove first occurance of 'inserted_value', from list"
   ]
  },
  {
   "cell_type": "code",
   "execution_count": 56,
   "id": "52cb7649",
   "metadata": {},
   "outputs": [
    {
     "ename": "ValueError",
     "evalue": "list.remove(x): x not in list",
     "output_type": "error",
     "traceback": [
      "\u001b[1;31m---------------------------------------------------------------------------\u001b[0m",
      "\u001b[1;31mValueError\u001b[0m                                Traceback (most recent call last)",
      "Cell \u001b[1;32mIn[56], line 1\u001b[0m\n\u001b[1;32m----> 1\u001b[0m \u001b[43mb\u001b[49m\u001b[38;5;241;43m.\u001b[39;49m\u001b[43mremove\u001b[49m\u001b[43m(\u001b[49m\u001b[38;5;124;43m'\u001b[39;49m\u001b[38;5;124;43mvivek\u001b[39;49m\u001b[38;5;124;43m'\u001b[39;49m\u001b[43m)\u001b[49m\n",
      "\u001b[1;31mValueError\u001b[0m: list.remove(x): x not in list"
     ]
    }
   ],
   "source": [
    "b.remove('vivek')  # : list.remove(x): x not in list not in list"
   ]
  },
  {
   "cell_type": "code",
   "execution_count": 60,
   "id": "7d67d19f",
   "metadata": {},
   "outputs": [
    {
     "data": {
      "text/plain": [
       "555"
      ]
     },
     "execution_count": 60,
     "metadata": {},
     "output_type": "execute_result"
    }
   ],
   "source": [
    "#pop -----it remove the last element of list and return it or print it \n",
    "b\n",
    "b.pop()"
   ]
  },
  {
   "cell_type": "code",
   "execution_count": 61,
   "id": "6a98d9cf",
   "metadata": {},
   "outputs": [
    {
     "data": {
      "text/plain": [
       "[1, 'inserted value', 4, 5, 'uddhav', 'sadu', True, False, 11.34]"
      ]
     },
     "execution_count": 61,
     "metadata": {},
     "output_type": "execute_result"
    }
   ],
   "source": [
    "b"
   ]
  },
  {
   "cell_type": "code",
   "execution_count": 62,
   "id": "d034bc71",
   "metadata": {},
   "outputs": [
    {
     "data": {
      "text/plain": [
       "5"
      ]
     },
     "execution_count": 62,
     "metadata": {},
     "output_type": "execute_result"
    }
   ],
   "source": [
    "b.pop(3) # it also remove specific index number element "
   ]
  },
  {
   "cell_type": "code",
   "execution_count": 74,
   "id": "10659d15",
   "metadata": {},
   "outputs": [
    {
     "data": {
      "text/plain": [
       "[]"
      ]
     },
     "execution_count": 74,
     "metadata": {},
     "output_type": "execute_result"
    }
   ],
   "source": [
    "# clear   ----- it will clear all the data from respective list\n",
    "#b.clear()\n",
    "b          # list is empty"
   ]
  },
  {
   "cell_type": "code",
   "execution_count": 75,
   "id": "b985fbe5",
   "metadata": {},
   "outputs": [],
   "source": [
    "# copy --- copy the same data from another list \n",
    "b=a.copy()"
   ]
  },
  {
   "cell_type": "code",
   "execution_count": 76,
   "id": "61e6e30b",
   "metadata": {},
   "outputs": [
    {
     "data": {
      "text/plain": [
       "list"
      ]
     },
     "execution_count": 76,
     "metadata": {},
     "output_type": "execute_result"
    }
   ],
   "source": [
    "b\n",
    "type(b)"
   ]
  },
  {
   "cell_type": "code",
   "execution_count": 77,
   "id": "cd6d1b79",
   "metadata": {},
   "outputs": [],
   "source": [
    "# reverse ----- used for reversed  ordered of elelment of list\n",
    "b.reverse()"
   ]
  },
  {
   "cell_type": "code",
   "execution_count": 78,
   "id": "dd908d8e",
   "metadata": {},
   "outputs": [
    {
     "data": {
      "text/plain": [
       "[[1, 2, 3, 4, 5],\n",
       " 555,\n",
       " 11.34,\n",
       " False,\n",
       " True,\n",
       " 'sadu',\n",
       " 'uddhav',\n",
       " 5,\n",
       " 4,\n",
       " 3,\n",
       " 'inserted value',\n",
       " 'inserted_value',\n",
       " 'inserted_value',\n",
       " 2,\n",
       " 1]"
      ]
     },
     "execution_count": 78,
     "metadata": {},
     "output_type": "execute_result"
    }
   ],
   "source": [
    "b  # data get reversed "
   ]
  },
  {
   "cell_type": "code",
   "execution_count": 79,
   "id": "0f229c6e",
   "metadata": {},
   "outputs": [
    {
     "ename": "TypeError",
     "evalue": "'<' not supported between instances of 'str' and 'int'",
     "output_type": "error",
     "traceback": [
      "\u001b[1;31m---------------------------------------------------------------------------\u001b[0m",
      "\u001b[1;31mTypeError\u001b[0m                                 Traceback (most recent call last)",
      "Cell \u001b[1;32mIn[79], line 4\u001b[0m\n\u001b[0;32m      1\u001b[0m \u001b[38;5;66;03m#sort --- in list by deafult insertion order is preserved if we want short element according to\u001b[39;00m\n\u001b[0;32m      2\u001b[0m \u001b[38;5;66;03m#default natural shorting order thrn go with sort function\u001b[39;00m\n\u001b[1;32m----> 4\u001b[0m \u001b[43ma\u001b[49m\u001b[38;5;241;43m.\u001b[39;49m\u001b[43msort\u001b[49m\u001b[43m(\u001b[49m\u001b[43m)\u001b[49m\n",
      "\u001b[1;31mTypeError\u001b[0m: '<' not supported between instances of 'str' and 'int'"
     ]
    }
   ],
   "source": [
    "#sort --- in list by deafult insertion order is preserved if we want short element according to\n",
    "#default natural shorting order thrn go with sort function\n",
    "\n",
    "a.sort()   #not supported between instances of 'str' and 'int'"
   ]
  },
  {
   "cell_type": "code",
   "execution_count": 80,
   "id": "f0604801",
   "metadata": {},
   "outputs": [],
   "source": [
    "c=[12,33,4,7,78,876876,34435,667,344,57,8,9,4,78,9,4,1]"
   ]
  },
  {
   "cell_type": "code",
   "execution_count": 83,
   "id": "7e2e95d8",
   "metadata": {},
   "outputs": [
    {
     "data": {
      "text/plain": [
       "[1, 4, 4, 4, 7, 8, 9, 9, 12, 33, 57, 78, 78, 344, 667, 34435, 876876]"
      ]
     },
     "execution_count": 83,
     "metadata": {},
     "output_type": "execute_result"
    }
   ],
   "source": [
    "c.sort()\n",
    "c"
   ]
  },
  {
   "cell_type": "code",
   "execution_count": 88,
   "id": "9986d36f",
   "metadata": {},
   "outputs": [
    {
     "data": {
      "text/plain": [
       "[876876, 34435, 667, 344, 78, 78, 57, 33, 12, 9, 9, 8, 7, 4, 4, 4, 1]"
      ]
     },
     "execution_count": 88,
     "metadata": {},
     "output_type": "execute_result"
    }
   ],
   "source": [
    "# short high to low\n",
    "c.sort(reverse=True)\n",
    "c                             # same will happen with string data "
   ]
  },
  {
   "cell_type": "raw",
   "id": "665246e5",
   "metadata": {},
   "source": []
  }
 ],
 "metadata": {
  "kernelspec": {
   "display_name": "Python 3 (ipykernel)",
   "language": "python",
   "name": "python3"
  },
  "language_info": {
   "codemirror_mode": {
    "name": "ipython",
    "version": 3
   },
   "file_extension": ".py",
   "mimetype": "text/x-python",
   "name": "python",
   "nbconvert_exporter": "python",
   "pygments_lexer": "ipython3",
   "version": "3.10.9"
  }
 },
 "nbformat": 4,
 "nbformat_minor": 5
}
