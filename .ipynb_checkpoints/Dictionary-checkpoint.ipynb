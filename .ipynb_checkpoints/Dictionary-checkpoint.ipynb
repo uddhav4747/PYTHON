{
 "cells": [
  {
   "cell_type": "markdown",
   "id": "4c14b8ac",
   "metadata": {},
   "source": [
    "\n",
    "\n",
    "# Dictionary"
   ]
  },
  {
   "cell_type": "code",
   "execution_count": 23,
   "id": "817af230",
   "metadata": {},
   "outputs": [],
   "source": [
    "a={'name':'uddhav','age':22,'roll_no':33}"
   ]
  },
  {
   "cell_type": "code",
   "execution_count": 3,
   "id": "7ddc1409",
   "metadata": {},
   "outputs": [
    {
     "data": {
      "text/plain": [
       "dict"
      ]
     },
     "execution_count": 3,
     "metadata": {},
     "output_type": "execute_result"
    }
   ],
   "source": [
    "type(a)"
   ]
  },
  {
   "cell_type": "code",
   "execution_count": 6,
   "id": "6359bfd3",
   "metadata": {},
   "outputs": [],
   "source": [
    "b=dict(a)"
   ]
  },
  {
   "cell_type": "code",
   "execution_count": 7,
   "id": "b831e308",
   "metadata": {},
   "outputs": [
    {
     "data": {
      "text/plain": [
       "{'name': 'uddhav', 'age': 22, 'roll_no': 33}"
      ]
     },
     "execution_count": 7,
     "metadata": {},
     "output_type": "execute_result"
    }
   ],
   "source": [
    "b"
   ]
  },
  {
   "cell_type": "code",
   "execution_count": 9,
   "id": "4aade782",
   "metadata": {},
   "outputs": [
    {
     "data": {
      "text/plain": [
       "dict_keys(['name', 'age', 'roll_no'])"
      ]
     },
     "execution_count": 9,
     "metadata": {},
     "output_type": "execute_result"
    }
   ],
   "source": [
    "a.keys()"
   ]
  },
  {
   "cell_type": "code",
   "execution_count": 10,
   "id": "7c4ff9b7",
   "metadata": {},
   "outputs": [
    {
     "data": {
      "text/plain": [
       "dict_values(['uddhav', 22, 33])"
      ]
     },
     "execution_count": 10,
     "metadata": {},
     "output_type": "execute_result"
    }
   ],
   "source": [
    "a.values()"
   ]
  },
  {
   "cell_type": "code",
   "execution_count": 11,
   "id": "8008cb39",
   "metadata": {},
   "outputs": [],
   "source": [
    "# dictonery is key value pair \n",
    "\n",
    "# 1  duplicate keys are not allowed  but value can be duplicated \n",
    "#2   hetrogeneous object are allowed for both key and value \n",
    "#3   insertation oreder is not preserved \n",
    "#4   dictionary are mutable "
   ]
  },
  {
   "cell_type": "code",
   "execution_count": 12,
   "id": "8f266e2e",
   "metadata": {},
   "outputs": [],
   "source": [
    "a={'name':['uddhav','sadu','pranay'],'age':[22,33,44],'roll_no':[33,11,23]}"
   ]
  },
  {
   "cell_type": "code",
   "execution_count": 14,
   "id": "d1dc6098",
   "metadata": {},
   "outputs": [
    {
     "data": {
      "text/plain": [
       "{'name': ['uddhav', 'sadu', 'pranay'],\n",
       " 'age': [22, 33, 44],\n",
       " 'roll_no': [33, 11, 23]}"
      ]
     },
     "execution_count": 14,
     "metadata": {},
     "output_type": "execute_result"
    }
   ],
   "source": [
    "type(a)\n",
    "a"
   ]
  },
  {
   "cell_type": "code",
   "execution_count": 15,
   "id": "4e890049",
   "metadata": {},
   "outputs": [
    {
     "data": {
      "text/plain": [
       "['__class__',\n",
       " '__class_getitem__',\n",
       " '__contains__',\n",
       " '__delattr__',\n",
       " '__delitem__',\n",
       " '__dir__',\n",
       " '__doc__',\n",
       " '__eq__',\n",
       " '__format__',\n",
       " '__ge__',\n",
       " '__getattribute__',\n",
       " '__getitem__',\n",
       " '__gt__',\n",
       " '__hash__',\n",
       " '__init__',\n",
       " '__init_subclass__',\n",
       " '__ior__',\n",
       " '__iter__',\n",
       " '__le__',\n",
       " '__len__',\n",
       " '__lt__',\n",
       " '__ne__',\n",
       " '__new__',\n",
       " '__or__',\n",
       " '__reduce__',\n",
       " '__reduce_ex__',\n",
       " '__repr__',\n",
       " '__reversed__',\n",
       " '__ror__',\n",
       " '__setattr__',\n",
       " '__setitem__',\n",
       " '__sizeof__',\n",
       " '__str__',\n",
       " '__subclasshook__',\n",
       " 'clear',\n",
       " 'copy',\n",
       " 'fromkeys',\n",
       " 'get',\n",
       " 'items',\n",
       " 'keys',\n",
       " 'pop',\n",
       " 'popitem',\n",
       " 'setdefault',\n",
       " 'update',\n",
       " 'values']"
      ]
     },
     "execution_count": 15,
     "metadata": {},
     "output_type": "execute_result"
    }
   ],
   "source": [
    "dir (a)"
   ]
  },
  {
   "cell_type": "code",
   "execution_count": 22,
   "id": "82209ce9",
   "metadata": {},
   "outputs": [
    {
     "ename": "NameError",
     "evalue": "name 'b' is not defined",
     "output_type": "error",
     "traceback": [
      "\u001b[1;31m---------------------------------------------------------------------------\u001b[0m",
      "\u001b[1;31mNameError\u001b[0m                                 Traceback (most recent call last)",
      "Cell \u001b[1;32mIn[22], line 3\u001b[0m\n\u001b[0;32m      1\u001b[0m \u001b[38;5;66;03m#1 clear--- to trmove all entries from list\u001b[39;00m\n\u001b[1;32m----> 3\u001b[0m \u001b[43mb\u001b[49m\u001b[38;5;241m.\u001b[39mclear()\n\u001b[0;32m      4\u001b[0m \u001b[38;5;28;01mdel\u001b[39;00m b\n\u001b[0;32m      5\u001b[0m b\n",
      "\u001b[1;31mNameError\u001b[0m: name 'b' is not defined"
     ]
    }
   ],
   "source": [
    "#1 clear--- to trmove all entries from list\n",
    "\n",
    "b.clear()\n",
    "del b\n",
    "b          # b is deleted "
   ]
  },
  {
   "cell_type": "code",
   "execution_count": 19,
   "id": "f4fa4400",
   "metadata": {},
   "outputs": [
    {
     "data": {
      "text/plain": [
       "{'name': ['uddhav', 'sadu', 'pranay'],\n",
       " 'age': [22, 33, 44],\n",
       " 'roll_no': [33, 11, 23]}"
      ]
     },
     "execution_count": 19,
     "metadata": {},
     "output_type": "execute_result"
    }
   ],
   "source": [
    "# copy------- to make exact same dictionary or copy of dictionary\n",
    "b=a.copy()\n",
    "b"
   ]
  },
  {
   "cell_type": "code",
   "execution_count": 24,
   "id": "8bfc682a",
   "metadata": {},
   "outputs": [
    {
     "data": {
      "text/plain": [
       "{'name': ('uddhav', 24, 4324435, 'pune'),\n",
       " 'age': ('uddhav', 24, 4324435, 'pune'),\n",
       " 'sakary': ('uddhav', 24, 4324435, 'pune'),\n",
       " 'city': ('uddhav', 24, 4324435, 'pune')}"
      ]
     },
     "execution_count": 24,
     "metadata": {},
     "output_type": "execute_result"
    }
   ],
   "source": [
    "#3   fromkeys-----this method is return a dictionary with specified key and specified values \n",
    "#syntax---dict.fromkeys(a,b)\n",
    "q=('name','age','sakary','city')\n",
    "b=('uddhav',24,4324435,'pune')\n",
    "c={}\n",
    "c=c.fromkeys(q,b)\n",
    "c"
   ]
  },
  {
   "cell_type": "code",
   "execution_count": 6,
   "id": "d0134ec0",
   "metadata": {},
   "outputs": [],
   "source": [
    "#4 get()-- get value associated with kay\n"
   ]
  },
  {
   "cell_type": "code",
   "execution_count": 22,
   "id": "3be09c3d",
   "metadata": {},
   "outputs": [
    {
     "data": {
      "text/plain": [
       "('name', 'age', 'sakary', 'city')"
      ]
     },
     "execution_count": 22,
     "metadata": {},
     "output_type": "execute_result"
    }
   ],
   "source": [
    "a"
   ]
  },
  {
   "cell_type": "code",
   "execution_count": 7,
   "id": "aaf7fddf",
   "metadata": {},
   "outputs": [
    {
     "data": {
      "text/plain": [
       "22"
      ]
     },
     "execution_count": 7,
     "metadata": {},
     "output_type": "execute_result"
    }
   ],
   "source": [
    "a.get('age')"
   ]
  },
  {
   "cell_type": "code",
   "execution_count": 8,
   "id": "f5e9af7d",
   "metadata": {},
   "outputs": [
    {
     "data": {
      "text/plain": [
       "'uddhav'"
      ]
     },
     "execution_count": 8,
     "metadata": {},
     "output_type": "execute_result"
    }
   ],
   "source": [
    "a.get('name')"
   ]
  },
  {
   "cell_type": "code",
   "execution_count": 9,
   "id": "b8847b3b",
   "metadata": {},
   "outputs": [
    {
     "data": {
      "text/plain": [
       "dict_items([('name', 'uddhav'), ('age', 22), ('roll_no', 33)])"
      ]
     },
     "execution_count": 9,
     "metadata": {},
     "output_type": "execute_result"
    }
   ],
   "source": [
    "#5 items --it retuen the list of tuple representing key value pair \n",
    "a.items()"
   ]
  },
  {
   "cell_type": "code",
   "execution_count": 10,
   "id": "57481405",
   "metadata": {},
   "outputs": [
    {
     "data": {
      "text/plain": [
       "dict_keys(['name', 'age', 'roll_no'])"
      ]
     },
     "execution_count": 10,
     "metadata": {},
     "output_type": "execute_result"
    }
   ],
   "source": [
    "#6 keys --- it will retuen all keys associated with dictionary\n",
    "a.keys()"
   ]
  },
  {
   "cell_type": "code",
   "execution_count": 11,
   "id": "8b384662",
   "metadata": {},
   "outputs": [
    {
     "data": {
      "text/plain": [
       "dict_values(['uddhav', 22, 33])"
      ]
     },
     "execution_count": 11,
     "metadata": {},
     "output_type": "execute_result"
    }
   ],
   "source": [
    "#7 values ----- it will return all values associated with dictionary\n",
    "a.values()"
   ]
  },
  {
   "cell_type": "code",
   "execution_count": 16,
   "id": "dbf07f05",
   "metadata": {},
   "outputs": [
    {
     "data": {
      "text/plain": [
       "('uddhav', 24, 4324435, 'pune')"
      ]
     },
     "execution_count": 16,
     "metadata": {},
     "output_type": "execute_result"
    }
   ],
   "source": [
    "#8 pop-------- it will remove entry associated with key and return it corresponding value \n",
    "c.pop('city')    # it will remove city entry and retun it \n",
    "\n",
    "# if specified key is not available then it show error "
   ]
  },
  {
   "cell_type": "code",
   "execution_count": 18,
   "id": "4e97e933",
   "metadata": {},
   "outputs": [
    {
     "data": {
      "text/plain": [
       "('sakary', ('uddhav', 24, 4324435, 'pune'))"
      ]
     },
     "execution_count": 18,
     "metadata": {},
     "output_type": "execute_result"
    }
   ],
   "source": [
    "#9  popitems  ---------it will remove orbitary item(key value pair from dictionary and return it last key value pair remove by default\n",
    "c.popitem()"
   ]
  },
  {
   "cell_type": "code",
   "execution_count": 19,
   "id": "37c64f7f",
   "metadata": {},
   "outputs": [],
   "source": [
    "# 10 set default()---------if key is available then it return corresponding value if key is not available then \n",
    "# specified key value added as new item to dictionary"
   ]
  },
  {
   "cell_type": "code",
   "execution_count": 25,
   "id": "79c8bc58",
   "metadata": {},
   "outputs": [
    {
     "data": {
      "text/plain": [
       "45000"
      ]
     },
     "execution_count": 25,
     "metadata": {},
     "output_type": "execute_result"
    }
   ],
   "source": [
    "a.setdefault('salary',45000)----------key is not available then added key value "
   ]
  },
  {
   "cell_type": "code",
   "execution_count": 26,
   "id": "060e8a61",
   "metadata": {},
   "outputs": [
    {
     "data": {
      "text/plain": [
       "{'name': 'uddhav', 'age': 22, 'roll_no': 33, 'salary': 45000}"
      ]
     },
     "execution_count": 26,
     "metadata": {},
     "output_type": "execute_result"
    }
   ],
   "source": [
    "a"
   ]
  },
  {
   "cell_type": "code",
   "execution_count": 28,
   "id": "77a8b70c",
   "metadata": {},
   "outputs": [
    {
     "data": {
      "text/plain": [
       "22"
      ]
     },
     "execution_count": 28,
     "metadata": {},
     "output_type": "execute_result"
    }
   ],
   "source": [
    "a.setdefault('age',66)"
   ]
  },
  {
   "cell_type": "code",
   "execution_count": 29,
   "id": "ba39294a",
   "metadata": {},
   "outputs": [
    {
     "data": {
      "text/plain": [
       "{'name': 'uddhav', 'age': 22, 'roll_no': 33, 'salary': 45000}"
      ]
     },
     "execution_count": 29,
     "metadata": {},
     "output_type": "execute_result"
    }
   ],
   "source": [
    "a"
   ]
  },
  {
   "cell_type": "code",
   "execution_count": 33,
   "id": "a98bd9f5",
   "metadata": {},
   "outputs": [],
   "source": [
    "#11 update ----- if all items present in dictionary then we will add more items(key value pair on it)\n",
    "a.update({'city':'pune','post':['katraj','warje'],'pin':413454})"
   ]
  },
  {
   "cell_type": "code",
   "execution_count": 34,
   "id": "6e084cf1",
   "metadata": {},
   "outputs": [
    {
     "data": {
      "text/plain": [
       "{'name': 'uddhav',\n",
       " 'age': 22,\n",
       " 'roll_no': 33,\n",
       " 'salary': 45000,\n",
       " 'city': 'pune',\n",
       " 'post': ['katraj', 'warje'],\n",
       " 'pin': 413454}"
      ]
     },
     "execution_count": 34,
     "metadata": {},
     "output_type": "execute_result"
    }
   ],
   "source": [
    "a"
   ]
  },
  {
   "cell_type": "code",
   "execution_count": null,
   "id": "04445fa8",
   "metadata": {},
   "outputs": [],
   "source": []
  }
 ],
 "metadata": {
  "kernelspec": {
   "display_name": "Python 3 (ipykernel)",
   "language": "python",
   "name": "python3"
  },
  "language_info": {
   "codemirror_mode": {
    "name": "ipython",
    "version": 3
   },
   "file_extension": ".py",
   "mimetype": "text/x-python",
   "name": "python",
   "nbconvert_exporter": "python",
   "pygments_lexer": "ipython3",
   "version": "3.10.9"
  }
 },
 "nbformat": 4,
 "nbformat_minor": 5
}
