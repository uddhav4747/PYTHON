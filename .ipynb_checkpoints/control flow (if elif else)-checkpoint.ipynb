{
 "cells": [
  {
   "cell_type": "code",
   "execution_count": 1,
   "id": "83115780",
   "metadata": {},
   "outputs": [],
   "source": [
    "# its block of code that is execute only condition purpose \n",
    "#if condition is true then execute block of code "
   ]
  },
  {
   "cell_type": "code",
   "execution_count": 2,
   "id": "b9a8a6ae",
   "metadata": {},
   "outputs": [
    {
     "name": "stdout",
     "output_type": "stream",
     "text": [
      "enter the name:dffog\n"
     ]
    }
   ],
   "source": [
    "name=input('enter the name:')\n",
    "if name=='uddhav':\n",
    "    print('you are in')\n",
    "        "
   ]
  },
  {
   "cell_type": "code",
   "execution_count": null,
   "id": "06d952d1",
   "metadata": {},
   "outputs": [],
   "source": [
    "# if elif\n",
    "#if condition is true then statement of if if will be executed otherwise elif statement is execuated "
   ]
  },
  {
   "cell_type": "code",
   "execution_count": 13,
   "id": "dc0d4af9",
   "metadata": {
    "code_folding": []
   },
   "outputs": [
    {
     "name": "stdout",
     "output_type": "stream",
     "text": [
      "enter the softdrink:cock\n",
      "its good\n"
     ]
    }
   ],
   "source": [
    "drinks=input('enter the softdrink:')\n",
    "\n",
    "if drinks=='cock':\n",
    "    print('its good')\n",
    "\n",
    "elif drinks=='pepsi':\n",
    "    print(' drik pepsi')"
   ]
  },
  {
   "cell_type": "code",
   "execution_count": 15,
   "id": "d2b41e40",
   "metadata": {},
   "outputs": [],
   "source": [
    "# if elif else :\n",
    "\n",
    "#if condition is true then statement of if if will be executed otherwise elif statement is execuated \n",
    "#if elif ststement fail then else statement execucated \n",
    "\n",
    "# else part  isalways optional \n",
    "# there is no switch ststement in python "
   ]
  },
  {
   "cell_type": "code",
   "execution_count": 16,
   "id": "c1c099c2",
   "metadata": {},
   "outputs": [
    {
     "name": "stdout",
     "output_type": "stream",
     "text": [
      "enter the softdrink:thumpsup\n",
      "dont drink anything \n"
     ]
    }
   ],
   "source": [
    "drinks=input('enter the softdrink:')\n",
    "\n",
    "if drinks=='cock':\n",
    "    print('its good')\n",
    "\n",
    "elif drinks=='pepsi':\n",
    "    print(' drik pepsi')\n",
    "else:\n",
    "    print('dont drink anything ')"
   ]
  },
  {
   "cell_type": "code",
   "execution_count": 18,
   "id": "e62505f2",
   "metadata": {},
   "outputs": [
    {
     "name": "stdout",
     "output_type": "stream",
     "text": [
      "20\n"
     ]
    }
   ],
   "source": [
    "# ternary operator \n",
    "# if ststement is true then first value will be consider else second value will be consider \n",
    "a=10\n",
    "b=20\n",
    "x=a if a>b else b\n",
    "print(x)"
   ]
  },
  {
   "cell_type": "code",
   "execution_count": null,
   "id": "a2eec50d",
   "metadata": {},
   "outputs": [],
   "source": []
  }
 ],
 "metadata": {
  "kernelspec": {
   "display_name": "Python 3 (ipykernel)",
   "language": "python",
   "name": "python3"
  },
  "language_info": {
   "codemirror_mode": {
    "name": "ipython",
    "version": 3
   },
   "file_extension": ".py",
   "mimetype": "text/x-python",
   "name": "python",
   "nbconvert_exporter": "python",
   "pygments_lexer": "ipython3",
   "version": "3.10.9"
  }
 },
 "nbformat": 4,
 "nbformat_minor": 5
}
