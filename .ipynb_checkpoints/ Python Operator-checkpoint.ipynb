{
 "cells": [
  {
   "cell_type": "markdown",
   "id": "bfa1cda1",
   "metadata": {},
   "source": [
    "\n",
    "# Python Operator"
   ]
  },
  {
   "cell_type": "code",
   "execution_count": 1,
   "id": "6fd1315f",
   "metadata": {},
   "outputs": [],
   "source": [
    "# operator is a symbol that performs certion ooperations "
   ]
  },
  {
   "cell_type": "code",
   "execution_count": null,
   "id": "ccb592b3",
   "metadata": {},
   "outputs": [],
   "source": [
    "# 1 Arithamatic operator (+,-,*,/,%,//)"
   ]
  },
  {
   "cell_type": "code",
   "execution_count": 2,
   "id": "83057451",
   "metadata": {},
   "outputs": [
    {
     "data": {
      "text/plain": [
       "444"
      ]
     },
     "execution_count": 2,
     "metadata": {},
     "output_type": "execute_result"
    }
   ],
   "source": [
    "#Additions (+)\n",
    "111+333"
   ]
  },
  {
   "cell_type": "code",
   "execution_count": 3,
   "id": "6196c56b",
   "metadata": {},
   "outputs": [
    {
     "data": {
      "text/plain": [
       "'uddhav  sadu'"
      ]
     },
     "execution_count": 3,
     "metadata": {},
     "output_type": "execute_result"
    }
   ],
   "source": [
    "'uddhav'+\"  \"+'sadu' "
   ]
  },
  {
   "cell_type": "code",
   "execution_count": 4,
   "id": "d2c56e2c",
   "metadata": {},
   "outputs": [
    {
     "data": {
      "text/plain": [
       "2"
      ]
     },
     "execution_count": 4,
     "metadata": {},
     "output_type": "execute_result"
    }
   ],
   "source": [
    "True+True"
   ]
  },
  {
   "cell_type": "code",
   "execution_count": 7,
   "id": "5bcad41d",
   "metadata": {},
   "outputs": [
    {
     "name": "stdout",
     "output_type": "stream",
     "text": [
      "111\n",
      "(4+4j)\n"
     ]
    },
    {
     "data": {
      "text/plain": [
       "0"
      ]
     },
     "execution_count": 7,
     "metadata": {},
     "output_type": "execute_result"
    }
   ],
   "source": [
    "#2 substraction(-)\n",
    "print(222-111)\n",
    "print((7+8J)-(3+4J))\n",
    "True-True"
   ]
  },
  {
   "cell_type": "code",
   "execution_count": 9,
   "id": "85791f1c",
   "metadata": {},
   "outputs": [
    {
     "name": "stdout",
     "output_type": "stream",
     "text": [
      "(-11+52j)\n"
     ]
    }
   ],
   "source": [
    "#multiplication(*)\n",
    "11*11\n",
    "print((7+8J)*(3+4J))"
   ]
  },
  {
   "cell_type": "code",
   "execution_count": 11,
   "id": "0cf72796",
   "metadata": {},
   "outputs": [
    {
     "data": {
      "text/plain": [
       "'ududud'"
      ]
     },
     "execution_count": 11,
     "metadata": {},
     "output_type": "execute_result"
    }
   ],
   "source": [
    "'ud'*3"
   ]
  },
  {
   "cell_type": "code",
   "execution_count": 12,
   "id": "c1da2c54",
   "metadata": {},
   "outputs": [
    {
     "data": {
      "text/plain": [
       "2333"
      ]
     },
     "execution_count": 12,
     "metadata": {},
     "output_type": "execute_result"
    }
   ],
   "source": [
    "True*2333"
   ]
  },
  {
   "cell_type": "code",
   "execution_count": 14,
   "id": "4bac26ff",
   "metadata": {},
   "outputs": [
    {
     "name": "stdout",
     "output_type": "stream",
     "text": [
      "2.0\n",
      "(2.12-0.16j)\n"
     ]
    },
    {
     "data": {
      "text/plain": [
       "0.25"
      ]
     },
     "execution_count": 14,
     "metadata": {},
     "output_type": "execute_result"
    }
   ],
   "source": [
    "#4 division(/)\n",
    "print(222/111)\n",
    "print((7+8J)/(3+4J))\n",
    "True/4"
   ]
  },
  {
   "cell_type": "code",
   "execution_count": 16,
   "id": "a272d16a",
   "metadata": {},
   "outputs": [
    {
     "data": {
      "text/plain": [
       "7"
      ]
     },
     "execution_count": 16,
     "metadata": {},
     "output_type": "execute_result"
    }
   ],
   "source": [
    "# 5  modulo(%)--- remaing value after complete divion of any numner (baki in marathi)\n",
    "97%10"
   ]
  },
  {
   "cell_type": "code",
   "execution_count": 18,
   "id": "08e57401",
   "metadata": {},
   "outputs": [
    {
     "data": {
      "text/plain": [
       "0"
      ]
     },
     "execution_count": 18,
     "metadata": {},
     "output_type": "execute_result"
    }
   ],
   "source": [
    "110%11   # because 110 is is divivded by 11 fully not remaining value so modulus is zero"
   ]
  },
  {
   "cell_type": "code",
   "execution_count": 19,
   "id": "6b720bfb",
   "metadata": {},
   "outputs": [
    {
     "data": {
      "text/plain": [
       "4"
      ]
     },
     "execution_count": 19,
     "metadata": {},
     "output_type": "execute_result"
    }
   ],
   "source": [
    "# 6 -----floor division(//)\n",
    "69//14"
   ]
  },
  {
   "cell_type": "code",
   "execution_count": 23,
   "id": "124ca480",
   "metadata": {},
   "outputs": [
    {
     "data": {
      "text/plain": [
       "5"
      ]
     },
     "execution_count": 23,
     "metadata": {},
     "output_type": "execute_result"
    }
   ],
   "source": [
    "72//14  #It will give the value near to fully divison of number "
   ]
  },
  {
   "cell_type": "code",
   "execution_count": 24,
   "id": "3f816753",
   "metadata": {},
   "outputs": [
    {
     "data": {
      "text/plain": [
       "100000"
      ]
     },
     "execution_count": 24,
     "metadata": {},
     "output_type": "execute_result"
    }
   ],
   "source": [
    "#7 erponent(**)\n",
    "10**5   # it mean 10*10*10*10*10"
   ]
  },
  {
   "cell_type": "code",
   "execution_count": 25,
   "id": "1e7687f3",
   "metadata": {},
   "outputs": [
    {
     "data": {
      "text/plain": [
       "100000"
      ]
     },
     "execution_count": 25,
     "metadata": {},
     "output_type": "execute_result"
    }
   ],
   "source": [
    "10*10*10*10*10"
   ]
  },
  {
   "cell_type": "code",
   "execution_count": 26,
   "id": "7720c93c",
   "metadata": {},
   "outputs": [
    {
     "data": {
      "text/plain": [
       "625"
      ]
     },
     "execution_count": 26,
     "metadata": {},
     "output_type": "execute_result"
    }
   ],
   "source": [
    "5**4 # 5*5*5*5"
   ]
  },
  {
   "cell_type": "markdown",
   "id": "6752dd6c",
   "metadata": {},
   "source": [
    "# relational or Comparision Operator "
   ]
  },
  {
   "cell_type": "code",
   "execution_count": 27,
   "id": "ea89da86",
   "metadata": {},
   "outputs": [],
   "source": [
    "# relational or comparision operator always return boolean value \n",
    "\n",
    "#(<,>,<=,>=,==(equal,!=(nort equal))"
   ]
  },
  {
   "cell_type": "code",
   "execution_count": 29,
   "id": "bdf9746b",
   "metadata": {},
   "outputs": [
    {
     "name": "stdout",
     "output_type": "stream",
     "text": [
      "True\n",
      "False\n",
      "False\n",
      "True\n",
      "True\n",
      "True\n"
     ]
    }
   ],
   "source": [
    "print(45<67)\n",
    "print(44>98)\n",
    "print(45==76)\n",
    "print(55!=88)\n",
    "print(76<=76)\n",
    "print(67>=65)"
   ]
  },
  {
   "cell_type": "markdown",
   "id": "2bc8c42f",
   "metadata": {},
   "source": [
    "# Logical Operator"
   ]
  },
  {
   "cell_type": "code",
   "execution_count": 30,
   "id": "0a459c9e",
   "metadata": {},
   "outputs": [],
   "source": [
    "#1 and ---- when both argument are true then only retuen true else false \n",
    "#2 or-----when at least one argumenmt is true then result is true if all are fail then result is fail\n",
    "#3 not-----if arguments evaluate to false thrn result is true otherwise false "
   ]
  },
  {
   "cell_type": "code",
   "execution_count": 34,
   "id": "ea64f23c",
   "metadata": {},
   "outputs": [
    {
     "name": "stdout",
     "output_type": "stream",
     "text": [
      "9854\n"
     ]
    }
   ],
   "source": [
    "print(435 and 9854)    # and always return biggest value "
   ]
  },
  {
   "cell_type": "code",
   "execution_count": 35,
   "id": "ee2d4e55",
   "metadata": {},
   "outputs": [
    {
     "data": {
      "text/plain": [
       "1"
      ]
     },
     "execution_count": 35,
     "metadata": {},
     "output_type": "execute_result"
    }
   ],
   "source": [
    "1 or 4                  # or retueb always smallest value "
   ]
  },
  {
   "cell_type": "code",
   "execution_count": 36,
   "id": "2bbdc301",
   "metadata": {},
   "outputs": [],
   "source": [
    "a=100"
   ]
  },
  {
   "cell_type": "code",
   "execution_count": 38,
   "id": "1486122f",
   "metadata": {},
   "outputs": [
    {
     "data": {
      "text/plain": [
       "False"
      ]
     },
     "execution_count": 38,
     "metadata": {},
     "output_type": "execute_result"
    }
   ],
   "source": [
    "not 8  false          # "
   ]
  },
  {
   "cell_type": "code",
   "execution_count": 39,
   "id": "ca9c08cf",
   "metadata": {},
   "outputs": [
    {
     "data": {
      "text/plain": [
       "True"
      ]
     },
     "execution_count": 39,
     "metadata": {},
     "output_type": "execute_result"
    }
   ],
   "source": [
    "not 0"
   ]
  },
  {
   "cell_type": "code",
   "execution_count": null,
   "id": "fb303518",
   "metadata": {},
   "outputs": [],
   "source": [
    "\n"
   ]
  },
  {
   "cell_type": "markdown",
   "id": "163e6b9b",
   "metadata": {},
   "source": [
    "# Assignmaent Operator"
   ]
  },
  {
   "cell_type": "code",
   "execution_count": 43,
   "id": "384ba534",
   "metadata": {},
   "outputs": [
    {
     "ename": "SyntaxError",
     "evalue": "'literal' is an illegal expression for augmented assignment (3594518855.py, line 8)",
     "output_type": "error",
     "traceback": [
      "\u001b[1;36m  Cell \u001b[1;32mIn[43], line 8\u001b[1;36m\u001b[0m\n\u001b[1;33m    'x'+= 10\u001b[0m\n\u001b[1;37m    ^\u001b[0m\n\u001b[1;31mSyntaxError\u001b[0m\u001b[1;31m:\u001b[0m 'literal' is an illegal expression for augmented assignment\n"
     ]
    }
   ],
   "source": [
    "# we use the assignment operator to assign the value to the variable \n",
    "g='ganesh '   \n",
    "# here = is the  assignment operator we can combain assignment operator with some other operator to from \n",
    "#compound assignment operator \n",
    "\n",
    "\n",
    "x='x'+10\n",
    "'x'+= 10"
   ]
  },
  {
   "cell_type": "markdown",
   "id": "169592fd",
   "metadata": {},
   "source": [
    "# indentity operator"
   ]
  },
  {
   "cell_type": "code",
   "execution_count": 44,
   "id": "e16694ab",
   "metadata": {},
   "outputs": [],
   "source": [
    "#indentity opetartor used for address comparsion\n",
    "# is       ( if vaiable indicate same data)\n",
    "#  is not   (id variabale indicate different data)"
   ]
  },
  {
   "cell_type": "code",
   "execution_count": 1,
   "id": "9297dea7",
   "metadata": {},
   "outputs": [],
   "source": [
    "# x is y return true  if x and y are pointing the same object\n",
    "x=33\n",
    "y=45"
   ]
  },
  {
   "cell_type": "code",
   "execution_count": 2,
   "id": "e1ae9070",
   "metadata": {},
   "outputs": [
    {
     "data": {
      "text/plain": [
       "False"
      ]
     },
     "execution_count": 2,
     "metadata": {},
     "output_type": "execute_result"
    }
   ],
   "source": [
    "x is y"
   ]
  },
  {
   "cell_type": "code",
   "execution_count": 3,
   "id": "37a468ca",
   "metadata": {},
   "outputs": [
    {
     "data": {
      "text/plain": [
       "True"
      ]
     },
     "execution_count": 3,
     "metadata": {},
     "output_type": "execute_result"
    }
   ],
   "source": [
    "x is not y"
   ]
  },
  {
   "cell_type": "code",
   "execution_count": 10,
   "id": "fa5011e2",
   "metadata": {},
   "outputs": [
    {
     "name": "stdout",
     "output_type": "stream",
     "text": [
      "True\n",
      "True\n"
     ]
    }
   ],
   "source": [
    "# membership operator --- it is use for to check given object is present in given collection\n",
    "# in and not in are membership operator \n",
    "\n",
    "a='uddhav Dahatonde'\n",
    "print('v' in a)\n",
    "print('hav' in a )"
   ]
  },
  {
   "cell_type": "code",
   "execution_count": 6,
   "id": "783eef0a",
   "metadata": {},
   "outputs": [],
   "source": [
    "b=[12,45,6,76,78,8]"
   ]
  },
  {
   "cell_type": "code",
   "execution_count": 7,
   "id": "5423c58d",
   "metadata": {},
   "outputs": [
    {
     "data": {
      "text/plain": [
       "False"
      ]
     },
     "execution_count": 7,
     "metadata": {},
     "output_type": "execute_result"
    }
   ],
   "source": [
    "13 in b"
   ]
  },
  {
   "cell_type": "code",
   "execution_count": 8,
   "id": "5e6ed756",
   "metadata": {},
   "outputs": [
    {
     "data": {
      "text/plain": [
       "True"
      ]
     },
     "execution_count": 8,
     "metadata": {},
     "output_type": "execute_result"
    }
   ],
   "source": [
    "12 in b"
   ]
  },
  {
   "cell_type": "markdown",
   "id": "bc3d41db",
   "metadata": {},
   "source": [
    "# bitwise operator"
   ]
  },
  {
   "cell_type": "code",
   "execution_count": 1,
   "id": "85e96acd",
   "metadata": {},
   "outputs": [
    {
     "data": {
      "text/plain": [
       "8"
      ]
     },
     "execution_count": 1,
     "metadata": {},
     "output_type": "execute_result"
    }
   ],
   "source": [
    "# there are and (&) and or(|)symbol \n",
    "8 & 10   # and return always small value "
   ]
  },
  {
   "cell_type": "code",
   "execution_count": 2,
   "id": "7c74cf57",
   "metadata": {},
   "outputs": [
    {
     "data": {
      "text/plain": [
       "94"
      ]
     },
     "execution_count": 2,
     "metadata": {},
     "output_type": "execute_result"
    }
   ],
   "source": [
    "22|88  # or return always big value \n"
   ]
  },
  {
   "cell_type": "code",
   "execution_count": 3,
   "id": "3c3e357b",
   "metadata": {},
   "outputs": [
    {
     "name": "stdout",
     "output_type": "stream",
     "text": [
      "0b1100\n"
     ]
    }
   ],
   "source": [
    " # to find binary number \n",
    "print(bin(12))  # bin(variable whicch store value )"
   ]
  },
  {
   "cell_type": "code",
   "execution_count": 4,
   "id": "09b1b090",
   "metadata": {},
   "outputs": [
    {
     "data": {
      "text/plain": [
       "52"
      ]
     },
     "execution_count": 4,
     "metadata": {},
     "output_type": "execute_result"
    }
   ],
   "source": [
    "x=22\n",
    "y=34\n",
    "x^y"
   ]
  },
  {
   "cell_type": "markdown",
   "id": "03f82f2d",
   "metadata": {},
   "source": [
    "# terenary operator"
   ]
  },
  {
   "cell_type": "code",
   "execution_count": 9,
   "id": "2a096ea8",
   "metadata": {},
   "outputs": [
    {
     "name": "stdout",
     "output_type": "stream",
     "text": [
      "20\n"
     ]
    }
   ],
   "source": [
    "#if condition is true then first value is consider else second value will consider\n",
    "# Using the ternary operator in Python\n",
    "x = 10\n",
    "y = 20\n",
    "max_value = x if x > y else y\n",
    "print(max_value)"
   ]
  },
  {
   "cell_type": "code",
   "execution_count": null,
   "id": "64e322c6",
   "metadata": {},
   "outputs": [],
   "source": []
  }
 ],
 "metadata": {
  "kernelspec": {
   "display_name": "Python 3 (ipykernel)",
   "language": "python",
   "name": "python3"
  },
  "language_info": {
   "codemirror_mode": {
    "name": "ipython",
    "version": 3
   },
   "file_extension": ".py",
   "mimetype": "text/x-python",
   "name": "python",
   "nbconvert_exporter": "python",
   "pygments_lexer": "ipython3",
   "version": "3.10.9"
  }
 },
 "nbformat": 4,
 "nbformat_minor": 5
}
