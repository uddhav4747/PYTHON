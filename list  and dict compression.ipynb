{
 "cells": [
  {
   "cell_type": "code",
   "execution_count": 1,
   "id": "a4310808",
   "metadata": {},
   "outputs": [],
   "source": [
    "# list compression --> list\n",
    "\n",
    "# dict ---> dict\n",
    "\n",
    "# # tuple ---> not applicable in python --> generator object"
   ]
  },
  {
   "cell_type": "code",
   "execution_count": null,
   "id": "10787d55",
   "metadata": {},
   "outputs": [],
   "source": [
    "#loop + condition --> list\n",
    "# whwn we have avaialble condition and loop then use list compression  and lamda has required function and condition"
   ]
  },
  {
   "cell_type": "code",
   "execution_count": 2,
   "id": "4d8a63ac",
   "metadata": {},
   "outputs": [
    {
     "data": {
      "text/plain": [
       "[86, 976]"
      ]
     },
     "execution_count": 2,
     "metadata": {},
     "output_type": "execute_result"
    }
   ],
   "source": [
    "p = [45,86,35,97,35,976,459]\n",
    "even = []\n",
    "for i in p:\n",
    "    if i%2==0:\n",
    "        even.append(i)                      # normal code \n",
    "        \n",
    "even"
   ]
  },
  {
   "cell_type": "code",
   "execution_count": null,
   "id": "689ac34c",
   "metadata": {},
   "outputs": [],
   "source": [
    "#syntax-- output for  loop in sequence  condition\n",
    " #first element came from sequece to loop then check for condition and if true then came in output"
   ]
  },
  {
   "cell_type": "code",
   "execution_count": 6,
   "id": "687e39fe",
   "metadata": {},
   "outputs": [],
   "source": [
    "even=[i for i in p if i%2==0]"
   ]
  },
  {
   "cell_type": "code",
   "execution_count": 7,
   "id": "f2080239",
   "metadata": {},
   "outputs": [
    {
     "data": {
      "text/plain": [
       "[86, 976]"
      ]
     },
     "execution_count": 7,
     "metadata": {},
     "output_type": "execute_result"
    }
   ],
   "source": [
    "even"
   ]
  },
  {
   "cell_type": "code",
   "execution_count": 8,
   "id": "1c2317a0",
   "metadata": {},
   "outputs": [],
   "source": [
    "p = ['test.pdf','tert.xlsx','sample.pdf','sdafsd.txt']"
   ]
  },
  {
   "cell_type": "code",
   "execution_count": 10,
   "id": "74884e91",
   "metadata": {},
   "outputs": [],
   "source": [
    "pdf_file=[i for i in p if i.endswith('.pdf')]"
   ]
  },
  {
   "cell_type": "code",
   "execution_count": 11,
   "id": "74f608c9",
   "metadata": {},
   "outputs": [
    {
     "data": {
      "text/plain": [
       "['test.pdf', 'sample.pdf']"
      ]
     },
     "execution_count": 11,
     "metadata": {},
     "output_type": "execute_result"
    }
   ],
   "source": [
    "pdf_file"
   ]
  },
  {
   "cell_type": "code",
   "execution_count": 22,
   "id": "203e7a2b",
   "metadata": {},
   "outputs": [],
   "source": [
    "other=[file for file in p if file .endswith('.pdf')]"
   ]
  },
  {
   "cell_type": "code",
   "execution_count": 18,
   "id": "09ffee47",
   "metadata": {},
   "outputs": [
    {
     "data": {
      "text/plain": [
       "['test.pdf', 'sample.pdf']"
      ]
     },
     "execution_count": 18,
     "metadata": {},
     "output_type": "execute_result"
    }
   ],
   "source": [
    "other"
   ]
  },
  {
   "cell_type": "code",
   "execution_count": 23,
   "id": "1c76106b",
   "metadata": {},
   "outputs": [],
   "source": [
    "# list compresion used on only for loop and if condition no any else condition or while loop condition is allowed "
   ]
  },
  {
   "cell_type": "code",
   "execution_count": 24,
   "id": "2d7acef0",
   "metadata": {},
   "outputs": [],
   "source": [
    "temp = [[1,2,3],[4,5,6],[7,8,9]]"
   ]
  },
  {
   "cell_type": "code",
   "execution_count": 27,
   "id": "a63bd91c",
   "metadata": {},
   "outputs": [
    {
     "name": "stdout",
     "output_type": "stream",
     "text": [
      "1\n",
      "2\n",
      "3\n",
      "4\n",
      "5\n",
      "6\n",
      "7\n",
      "8\n",
      "9\n"
     ]
    }
   ],
   "source": [
    "for i in temp:\n",
    "    for j in i:  ---------normal approch\n",
    "        print(j)"
   ]
  },
  {
   "cell_type": "code",
   "execution_count": 29,
   "id": "06c139e8",
   "metadata": {},
   "outputs": [],
   "source": [
    "listitem=[j for i in temp for j in i]"
   ]
  },
  {
   "cell_type": "code",
   "execution_count": 30,
   "id": "75764e52",
   "metadata": {},
   "outputs": [
    {
     "data": {
      "text/plain": [
       "[1, 2, 3, 4, 5, 6, 7, 8, 9]"
      ]
     },
     "execution_count": 30,
     "metadata": {},
     "output_type": "execute_result"
    }
   ],
   "source": [
    "listitem"
   ]
  },
  {
   "cell_type": "code",
   "execution_count": null,
   "id": "dcc0e360",
   "metadata": {},
   "outputs": [],
   "source": [
    "# split the list on . and find the length of each element #"
   ]
  },
  {
   "cell_type": "code",
   "execution_count": 31,
   "id": "a68a5a73",
   "metadata": {},
   "outputs": [],
   "source": [
    "p = ['test.pdf','tert.xlsx','sample.pdf','sdafsd.txt']"
   ]
  },
  {
   "cell_type": "code",
   "execution_count": 35,
   "id": "3ce9d03f",
   "metadata": {},
   "outputs": [
    {
     "name": "stdout",
     "output_type": "stream",
     "text": [
      "[4, 4, 6, 6]\n"
     ]
    }
   ],
   "source": [
    "length=[len(i.split('.')[0]) for i in p]\n",
    "print(length)"
   ]
  },
  {
   "cell_type": "markdown",
   "id": "be155b58",
   "metadata": {},
   "source": [
    "# dict compression"
   ]
  },
  {
   "cell_type": "code",
   "execution_count": 36,
   "id": "0a6bcaaa",
   "metadata": {},
   "outputs": [],
   "source": [
    "p = ['test.pdf','tert.xlsx','sample.pdf','sdafsd.txt']"
   ]
  },
  {
   "cell_type": "code",
   "execution_count": 42,
   "id": "89d39d3a",
   "metadata": {},
   "outputs": [
    {
     "data": {
      "text/plain": [
       "{'test': 'pdf', 'tert': 'xlsx', 'sample': 'pdf', 'sdafsd': 'txt'}"
      ]
     },
     "execution_count": 42,
     "metadata": {},
     "output_type": "execute_result"
    }
   ],
   "source": [
    "{var.split('.')[0]: var.split('.')[1]for var in p}\n"
   ]
  },
  {
   "cell_type": "code",
   "execution_count": 45,
   "id": "cfad6d77",
   "metadata": {},
   "outputs": [
    {
     "data": {
      "text/plain": [
       "{'test': 'pdf', 'sample': 'pdf'}"
      ]
     },
     "execution_count": 45,
     "metadata": {},
     "output_type": "execute_result"
    }
   ],
   "source": [
    "# for perticular element condition\n",
    "{var.split('.')[0]: var.split('.')[1]for var in p if var.endswith ('.pdf')}"
   ]
  },
  {
   "cell_type": "code",
   "execution_count": null,
   "id": "d87c83e9",
   "metadata": {},
   "outputs": [],
   "source": [
    "# "
   ]
  }
 ],
 "metadata": {
  "kernelspec": {
   "display_name": "Python 3 (ipykernel)",
   "language": "python",
   "name": "python3"
  },
  "language_info": {
   "codemirror_mode": {
    "name": "ipython",
    "version": 3
   },
   "file_extension": ".py",
   "mimetype": "text/x-python",
   "name": "python",
   "nbconvert_exporter": "python",
   "pygments_lexer": "ipython3",
   "version": "3.10.9"
  }
 },
 "nbformat": 4,
 "nbformat_minor": 5
}
