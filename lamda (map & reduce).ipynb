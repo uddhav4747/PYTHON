{
 "cells": [
  {
   "cell_type": "code",
   "execution_count": 32,
   "id": "695ea2ee",
   "metadata": {},
   "outputs": [],
   "source": [
    "# temporary task\n",
    "\n",
    "# single use\n",
    "\n",
    "# just in time\n",
    "\n",
    "# no name anonoumous function\n",
    "# lamda has requied function and condition here lamda is function and x,y are multiple function input and then output condition"
   ]
  },
  {
   "cell_type": "code",
   "execution_count": null,
   "id": "47d43234",
   "metadata": {},
   "outputs": [],
   "source": [
    "syntax--- lambda input : output  "
   ]
  },
  {
   "cell_type": "code",
   "execution_count": 1,
   "id": "302d4b9c",
   "metadata": {},
   "outputs": [
    {
     "data": {
      "text/plain": [
       "50"
      ]
     },
     "execution_count": 1,
     "metadata": {},
     "output_type": "execute_result"
    }
   ],
   "source": [
    "(lambda x,y:x+y)(10,40)"
   ]
  },
  {
   "cell_type": "code",
   "execution_count": 3,
   "id": "a610ef88",
   "metadata": {},
   "outputs": [],
   "source": [
    "x=lambda x,y:x if x<y else y"
   ]
  },
  {
   "cell_type": "code",
   "execution_count": 4,
   "id": "cb7c4a90",
   "metadata": {},
   "outputs": [
    {
     "data": {
      "text/plain": [
       "22"
      ]
     },
     "execution_count": 4,
     "metadata": {},
     "output_type": "execute_result"
    }
   ],
   "source": [
    "x(22,33)"
   ]
  },
  {
   "cell_type": "code",
   "execution_count": 5,
   "id": "780731c7",
   "metadata": {},
   "outputs": [],
   "source": [
    "#(x+y)^2 = x*x + 2*x*y + y*y\n",
    "temp = (lambda x,y: x*x + 2*x*y + y*y)"
   ]
  },
  {
   "cell_type": "code",
   "execution_count": 6,
   "id": "1c240ad7",
   "metadata": {},
   "outputs": [
    {
     "data": {
      "text/plain": [
       "25"
      ]
     },
     "execution_count": 6,
     "metadata": {},
     "output_type": "execute_result"
    }
   ],
   "source": [
    "temp(2,3)"
   ]
  },
  {
   "cell_type": "markdown",
   "id": "6ddb9a1d",
   "metadata": {},
   "source": [
    "# map "
   ]
  },
  {
   "cell_type": "code",
   "execution_count": null,
   "id": "86836472",
   "metadata": {},
   "outputs": [],
   "source": [
    "#syntax-- output dataset(map(lambda input variable:output operation on variable,dataset/data))"
   ]
  },
  {
   "cell_type": "code",
   "execution_count": null,
   "id": "4f8679f8",
   "metadata": {},
   "outputs": [],
   "source": [
    "# in map condition is applay on all element of set "
   ]
  },
  {
   "cell_type": "code",
   "execution_count": null,
   "id": "5660de54",
   "metadata": {},
   "outputs": [],
   "source": []
  },
  {
   "cell_type": "code",
   "execution_count": 18,
   "id": "739b1c82",
   "metadata": {},
   "outputs": [],
   "source": [
    "py_list = [2,8,6,5,34,8,3]"
   ]
  },
  {
   "cell_type": "code",
   "execution_count": 19,
   "id": "df1cf22c",
   "metadata": {},
   "outputs": [
    {
     "data": {
      "text/plain": [
       "[4, 64, 36, 25, 1156, 64, 9]"
      ]
     },
     "execution_count": 19,
     "metadata": {},
     "output_type": "execute_result"
    }
   ],
   "source": [
    "list(map(lambda x:x*x,py_list))"
   ]
  },
  {
   "cell_type": "code",
   "execution_count": 9,
   "id": "ccfc830d",
   "metadata": {},
   "outputs": [],
   "source": [
    "# find the lenght of each element from list\n",
    "py = ['java','python','hadoop','c']"
   ]
  },
  {
   "cell_type": "code",
   "execution_count": 11,
   "id": "362349ec",
   "metadata": {},
   "outputs": [
    {
     "data": {
      "text/plain": [
       "[4, 6, 6, 1]"
      ]
     },
     "execution_count": 11,
     "metadata": {},
     "output_type": "execute_result"
    }
   ],
   "source": [
    "list(map(lambda x:len(x),py))"
   ]
  },
  {
   "cell_type": "code",
   "execution_count": 12,
   "id": "15df1b87",
   "metadata": {},
   "outputs": [],
   "source": [
    "pyfile = ['test.pdf','smaple.xlsx','test23.pdf','sdadsf.txt','asfsdf.pdf']"
   ]
  },
  {
   "cell_type": "code",
   "execution_count": 15,
   "id": "03f26462",
   "metadata": {},
   "outputs": [
    {
     "data": {
      "text/plain": [
       "['test', 'smaple', 'test23', 'sdadsf', 'asfsdf']"
      ]
     },
     "execution_count": 15,
     "metadata": {},
     "output_type": "execute_result"
    }
   ],
   "source": [
    "list(map(lambda x:x.split('.')[0],pyfile))"
   ]
  },
  {
   "cell_type": "markdown",
   "id": "875e11c3",
   "metadata": {},
   "source": [
    "# filter"
   ]
  },
  {
   "cell_type": "code",
   "execution_count": 20,
   "id": "c293f071",
   "metadata": {},
   "outputs": [],
   "source": [
    "# in filter it will check available condition checkon dataset  and filter data as per if condition  "
   ]
  },
  {
   "cell_type": "code",
   "execution_count": null,
   "id": "7b22f4e5",
   "metadata": {},
   "outputs": [],
   "source": [
    "py_list = [2,8,6,5,34,8,3]"
   ]
  },
  {
   "cell_type": "code",
   "execution_count": 24,
   "id": "cb20b594",
   "metadata": {},
   "outputs": [
    {
     "data": {
      "text/plain": [
       "[2, 8, 6, 34, 8]"
      ]
     },
     "execution_count": 24,
     "metadata": {},
     "output_type": "execute_result"
    }
   ],
   "source": [
    "list(filter(lambda x:x%2==0,py_list))"
   ]
  },
  {
   "cell_type": "code",
   "execution_count": 25,
   "id": "aa35b265",
   "metadata": {},
   "outputs": [
    {
     "data": {
      "text/plain": [
       "[True, True, True, False, True, True, False]"
      ]
     },
     "execution_count": 25,
     "metadata": {},
     "output_type": "execute_result"
    }
   ],
   "source": [
    "list(map(lambda x:x%2==0,py_list))"
   ]
  },
  {
   "cell_type": "code",
   "execution_count": 26,
   "id": "9cb54995",
   "metadata": {},
   "outputs": [],
   "source": [
    "\n",
    "py = ['m','m','f','f','m','f']"
   ]
  },
  {
   "cell_type": "code",
   "execution_count": 30,
   "id": "26ff0a2e",
   "metadata": {},
   "outputs": [
    {
     "data": {
      "text/plain": [
       "[1, 1, 0, 0, 1, 0]"
      ]
     },
     "execution_count": 30,
     "metadata": {},
     "output_type": "execute_result"
    }
   ],
   "source": [
    "list(filter(lambda x: 1 if x=='m' else 0,py))\n",
    "list(map(lambda x : 1 if x=='m' else 0,py ))"
   ]
  },
  {
   "cell_type": "code",
   "execution_count": null,
   "id": "9c0075ce",
   "metadata": {},
   "outputs": [],
   "source": []
  }
 ],
 "metadata": {
  "kernelspec": {
   "display_name": "Python 3 (ipykernel)",
   "language": "python",
   "name": "python3"
  },
  "language_info": {
   "codemirror_mode": {
    "name": "ipython",
    "version": 3
   },
   "file_extension": ".py",
   "mimetype": "text/x-python",
   "name": "python",
   "nbconvert_exporter": "python",
   "pygments_lexer": "ipython3",
   "version": "3.10.9"
  }
 },
 "nbformat": 4,
 "nbformat_minor": 5
}
