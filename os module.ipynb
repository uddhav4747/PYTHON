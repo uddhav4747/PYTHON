{
 "cells": [
  {
   "cell_type": "markdown",
   "id": "888899c6",
   "metadata": {},
   "source": [
    "# os module "
   ]
  },
  {
   "cell_type": "code",
   "execution_count": 3,
   "id": "e60cd7f6",
   "metadata": {},
   "outputs": [
    {
     "data": {
      "text/plain": [
       "'C:\\\\Users\\\\Lenovo\\\\Desktop\\\\python'"
      ]
     },
     "execution_count": 3,
     "metadata": {},
     "output_type": "execute_result"
    }
   ],
   "source": [
    " import os\n",
    "os.getcwd()\n"
   ]
  },
  {
   "cell_type": "code",
   "execution_count": 9,
   "id": "a8c6af71",
   "metadata": {},
   "outputs": [],
   "source": [
    "os.chdir('C:\\\\Users\\\\Lenovo\\\\Desktop\\\\pandas')"
   ]
  },
  {
   "cell_type": "code",
   "execution_count": 11,
   "id": "60566a4d",
   "metadata": {},
   "outputs": [
    {
     "data": {
      "text/plain": [
       "'C:\\\\Users\\\\Lenovo\\\\Desktop\\\\pandas'"
      ]
     },
     "execution_count": 11,
     "metadata": {},
     "output_type": "execute_result"
    }
   ],
   "source": [
    "os.getcwd()"
   ]
  },
  {
   "cell_type": "code",
   "execution_count": 12,
   "id": "f9737b45",
   "metadata": {},
   "outputs": [
    {
     "data": {
      "text/plain": [
       "['.ipynb_checkpoints',\n",
       " 'basic_row_data',\n",
       " 'filename',\n",
       " 'hotel_booking.csv',\n",
       " 'hr.html',\n",
       " 'pandas.ipynb']"
      ]
     },
     "execution_count": 12,
     "metadata": {},
     "output_type": "execute_result"
    }
   ],
   "source": [
    "os.listdir()"
   ]
  },
  {
   "cell_type": "code",
   "execution_count": 17,
   "id": "7937189d",
   "metadata": {},
   "outputs": [],
   "source": [
    "os.chdir('C:\\\\Users\\\\Lenovo\\\\Desktop\\\\python')"
   ]
  },
  {
   "cell_type": "code",
   "execution_count": 19,
   "id": "56c27cca",
   "metadata": {},
   "outputs": [
    {
     "data": {
      "text/plain": [
       "[' Python Operator.ipynb',\n",
       " '.git',\n",
       " '.ipynb_checkpoints',\n",
       " 'control flow (if elif else).ipynb',\n",
       " 'Dictionary.ipynb',\n",
       " 'exception handling .ipynb',\n",
       " 'function.ipynb',\n",
       " 'INPUT OUTPUT STATEMENT.ipynb',\n",
       " 'Iterator & Generator and Decorator .ipynb',\n",
       " 'lamda (map & reduce).ipynb',\n",
       " 'list  and dict compression.ipynb',\n",
       " 'list.ipynb',\n",
       " 'local and global vafriable .ipynb',\n",
       " 'loop and loopcontrol statements .ipynb',\n",
       " 'os module.ipynb',\n",
       " 'PYTHON',\n",
       " 'README.md',\n",
       " 'set.ipynb',\n",
       " 'string.ipynb',\n",
       " 'text.csv',\n",
       " 'Tuple.ipynb',\n",
       " 'uddhav.txt']"
      ]
     },
     "execution_count": 19,
     "metadata": {},
     "output_type": "execute_result"
    }
   ],
   "source": [
    "os.listdir()"
   ]
  },
  {
   "cell_type": "code",
   "execution_count": 21,
   "id": "36492d05",
   "metadata": {},
   "outputs": [],
   "source": [
    "os.mkdir('pycharm') # to create single directory"
   ]
  },
  {
   "cell_type": "code",
   "execution_count": 22,
   "id": "0198dbf5",
   "metadata": {},
   "outputs": [
    {
     "data": {
      "text/plain": [
       "[' Python Operator.ipynb',\n",
       " '.git',\n",
       " '.ipynb_checkpoints',\n",
       " 'control flow (if elif else).ipynb',\n",
       " 'Dictionary.ipynb',\n",
       " 'exception handling .ipynb',\n",
       " 'function.ipynb',\n",
       " 'INPUT OUTPUT STATEMENT.ipynb',\n",
       " 'Iterator & Generator and Decorator .ipynb',\n",
       " 'lamda (map & reduce).ipynb',\n",
       " 'list  and dict compression.ipynb',\n",
       " 'list.ipynb',\n",
       " 'local and global vafriable .ipynb',\n",
       " 'loop and loopcontrol statements .ipynb',\n",
       " 'os module.ipynb',\n",
       " 'pycharm',\n",
       " 'PYTHON',\n",
       " 'README.md',\n",
       " 'set.ipynb',\n",
       " 'string.ipynb',\n",
       " 'text.csv',\n",
       " 'Tuple.ipynb',\n",
       " 'uddhav.txt']"
      ]
     },
     "execution_count": 22,
     "metadata": {},
     "output_type": "execute_result"
    }
   ],
   "source": [
    "os.listdir()"
   ]
  },
  {
   "cell_type": "code",
   "execution_count": 23,
   "id": "ab0dfb66",
   "metadata": {},
   "outputs": [],
   "source": [
    "os.rmdir('pycharm') # to remove single directory"
   ]
  },
  {
   "cell_type": "code",
   "execution_count": 24,
   "id": "04f888f3",
   "metadata": {},
   "outputs": [
    {
     "data": {
      "text/plain": [
       "[' Python Operator.ipynb',\n",
       " '.git',\n",
       " '.ipynb_checkpoints',\n",
       " 'control flow (if elif else).ipynb',\n",
       " 'Dictionary.ipynb',\n",
       " 'exception handling .ipynb',\n",
       " 'function.ipynb',\n",
       " 'INPUT OUTPUT STATEMENT.ipynb',\n",
       " 'Iterator & Generator and Decorator .ipynb',\n",
       " 'lamda (map & reduce).ipynb',\n",
       " 'list  and dict compression.ipynb',\n",
       " 'list.ipynb',\n",
       " 'local and global vafriable .ipynb',\n",
       " 'loop and loopcontrol statements .ipynb',\n",
       " 'os module.ipynb',\n",
       " 'PYTHON',\n",
       " 'README.md',\n",
       " 'set.ipynb',\n",
       " 'string.ipynb',\n",
       " 'text.csv',\n",
       " 'Tuple.ipynb',\n",
       " 'uddhav.txt']"
      ]
     },
     "execution_count": 24,
     "metadata": {},
     "output_type": "execute_result"
    }
   ],
   "source": [
    "os.listdir()"
   ]
  },
  {
   "cell_type": "code",
   "execution_count": 25,
   "id": "6db89b15",
   "metadata": {},
   "outputs": [],
   "source": [
    "\n",
    "os.makedirs('pycharm//file.py//text.txt') # for multiple nested directorys"
   ]
  },
  {
   "cell_type": "code",
   "execution_count": 27,
   "id": "57ecfd14",
   "metadata": {},
   "outputs": [
    {
     "data": {
      "text/plain": [
       "[' Python Operator.ipynb',\n",
       " '.git',\n",
       " '.ipynb_checkpoints',\n",
       " 'control flow (if elif else).ipynb',\n",
       " 'Dictionary.ipynb',\n",
       " 'exception handling .ipynb',\n",
       " 'function.ipynb',\n",
       " 'INPUT OUTPUT STATEMENT.ipynb',\n",
       " 'Iterator & Generator and Decorator .ipynb',\n",
       " 'lamda (map & reduce).ipynb',\n",
       " 'list  and dict compression.ipynb',\n",
       " 'list.ipynb',\n",
       " 'local and global vafriable .ipynb',\n",
       " 'loop and loopcontrol statements .ipynb',\n",
       " 'os module.ipynb',\n",
       " 'pycharm',\n",
       " 'PYTHON',\n",
       " 'README.md',\n",
       " 'set.ipynb',\n",
       " 'string.ipynb',\n",
       " 'text.csv',\n",
       " 'Tuple.ipynb',\n",
       " 'uddhav.txt']"
      ]
     },
     "execution_count": 27,
     "metadata": {},
     "output_type": "execute_result"
    }
   ],
   "source": [
    "os.listdir()"
   ]
  },
  {
   "cell_type": "code",
   "execution_count": 28,
   "id": "30c3b068",
   "metadata": {},
   "outputs": [],
   "source": [
    "\n",
    "os.removedirs('pycharm//file.py//text.txt') # to delete nested dirs"
   ]
  },
  {
   "cell_type": "code",
   "execution_count": null,
   "id": "3fde1766",
   "metadata": {},
   "outputs": [],
   "source": [
    "# import os\n",
    "# import time\n",
    "# while True:\n",
    "#     filename = os.listdir(\".\")\n",
    "#     for file in filename:\n",
    "#         if file.endswith('.csv'):\n",
    "#             pass\n",
    "#         else:\n",
    "#             time.sleep(1)\n",
    "\n",
    "\n",
    "# with open('hadoop12.txt','r+') as fp:\n",
    "#     data = fp.read()\n",
    "\n",
    "#     with open('hadoop1.txt','w') as fp1:\n",
    "#         fp1.write(data)\n",
    "#         fp.seek(0)\n",
    "#         fp.truncate(0)\n",
    "\t\t\n",
    "# import os\n",
    "# os.chdir(r\"C:\\Users\\A I\\Desktop\\Teraform\")\n",
    "# for file in os.listdir(\".\"):\n",
    "#     print(\"Deleting {} file\".format(file))\n",
    "#     os.remove(file)\n",
    "\n",
    "\n",
    "# import shutil\n",
    "\n",
    "# shutil.rmtree('temp')\n",
    "\n",
    "\n",
    "# import os\n",
    "\n",
    "# os.chdir(r'C:\\Users\\A I\\Desktop\\Teraform')\n",
    "\n",
    "# os.system(\"python test.py\")\n"
   ]
  },
  {
   "cell_type": "code",
   "execution_count": null,
   "id": "fb0d77b5",
   "metadata": {},
   "outputs": [],
   "source": []
  }
 ],
 "metadata": {
  "kernelspec": {
   "display_name": "Python 3 (ipykernel)",
   "language": "python",
   "name": "python3"
  },
  "language_info": {
   "codemirror_mode": {
    "name": "ipython",
    "version": 3
   },
   "file_extension": ".py",
   "mimetype": "text/x-python",
   "name": "python",
   "nbconvert_exporter": "python",
   "pygments_lexer": "ipython3",
   "version": "3.10.9"
  }
 },
 "nbformat": 4,
 "nbformat_minor": 5
}
