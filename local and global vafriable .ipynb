{
 "cells": [
  {
   "cell_type": "code",
   "execution_count": null,
   "id": "f3645f8f",
   "metadata": {},
   "outputs": [],
   "source": [
    "Types of variable in function:\n",
    "    global variable \n",
    "    \n",
    "    local variable : within the function\n",
    "        \n",
    "    global :\n",
    "    scope of global varibale is througout program"
   ]
  },
  {
   "cell_type": "code",
   "execution_count": 1,
   "id": "e9e37396",
   "metadata": {},
   "outputs": [],
   "source": [
    "x = 'python' # program\n",
    "\n",
    "def test():\n",
    "    x = 500 # local -- within the function"
   ]
  },
  {
   "cell_type": "code",
   "execution_count": 2,
   "id": "3045ccaa",
   "metadata": {},
   "outputs": [
    {
     "data": {
      "text/plain": [
       "'python'"
      ]
     },
     "execution_count": 2,
     "metadata": {},
     "output_type": "execute_result"
    }
   ],
   "source": [
    "x    # x is global variable which can access in throughout program"
   ]
  },
  {
   "cell_type": "code",
   "execution_count": 3,
   "id": "c6cc2cb1",
   "metadata": {},
   "outputs": [],
   "source": [
    "a = 100\n",
    "\n",
    "def test():   \n",
    "    \n",
    "    print(a)"
   ]
  },
  {
   "cell_type": "code",
   "execution_count": 4,
   "id": "f7357419",
   "metadata": {},
   "outputs": [
    {
     "name": "stdout",
     "output_type": "stream",
     "text": [
      "100\n"
     ]
    }
   ],
   "source": [
    "test() # global variable we can access inside the function"
   ]
  },
  {
   "cell_type": "code",
   "execution_count": null,
   "id": "bf8dc0c1",
   "metadata": {},
   "outputs": [],
   "source": [
    "what is the use of global keyword?\n",
    "global : keyword\n",
    "    \n",
    "    global : \n",
    "        1.to modify value of global varibale using funcion\n",
    "        2.To make local variable as Global variable    "
   ]
  },
  {
   "cell_type": "code",
   "execution_count": 18,
   "id": "1ef4059e",
   "metadata": {},
   "outputs": [],
   "source": [
    "course = 'Java'  # its global variable which can access anywhere\n",
    "def m1():\n",
    "    print(course)\n",
    "def m2():\n",
    "    course = 'Python'    # local variable \n",
    "    print(course)\n",
    "def m4():\n",
    "    print(course)    \n",
    "def m3():\n",
    "    global course\n",
    "    course = 'Machine learning'    # make local variable to global variable \n",
    "def m5():\n",
    "    global course\n",
    "    course = 'Data Science'          # make local variable to global variable \n"
   ]
  },
  {
   "cell_type": "code",
   "execution_count": 11,
   "id": "bec0e2f5",
   "metadata": {},
   "outputs": [
    {
     "name": "stdout",
     "output_type": "stream",
     "text": [
      "Data Science\n",
      "Python\n"
     ]
    }
   ],
   "source": [
    "m1()\n",
    "m2()\n",
    "m3()"
   ]
  },
  {
   "cell_type": "code",
   "execution_count": 16,
   "id": "e9bfd79d",
   "metadata": {},
   "outputs": [
    {
     "data": {
      "text/plain": [
       "'Java'"
      ]
     },
     "execution_count": 16,
     "metadata": {},
     "output_type": "execute_result"
    }
   ],
   "source": [
    "course"
   ]
  },
  {
   "cell_type": "code",
   "execution_count": 23,
   "id": "bdea2dd0",
   "metadata": {},
   "outputs": [
    {
     "name": "stdout",
     "output_type": "stream",
     "text": [
      "Machine learning\n"
     ]
    }
   ],
   "source": [
    "m4()"
   ]
  },
  {
   "cell_type": "markdown",
   "id": "a00f26a7",
   "metadata": {},
   "source": [
    "m5()"
   ]
  },
  {
   "cell_type": "code",
   "execution_count": 24,
   "id": "925d36aa",
   "metadata": {},
   "outputs": [],
   "source": [
    "m5()"
   ]
  },
  {
   "cell_type": "code",
   "execution_count": 25,
   "id": "ddba866f",
   "metadata": {},
   "outputs": [
    {
     "name": "stdout",
     "output_type": "stream",
     "text": [
      "Data Science\n"
     ]
    }
   ],
   "source": [
    "m4()"
   ]
  },
  {
   "cell_type": "code",
   "execution_count": 1,
   "id": "10335800",
   "metadata": {},
   "outputs": [],
   "source": [
    "def test():\n",
    "    global i,j,k\n",
    "    i = 100\n",
    "    j = 200\n",
    "    k = 300\n",
    "    \n",
    "def test1():\n",
    "    print(i,j,k)"
   ]
  },
  {
   "cell_type": "code",
   "execution_count": 2,
   "id": "79cf8678",
   "metadata": {},
   "outputs": [],
   "source": [
    "test()"
   ]
  },
  {
   "cell_type": "code",
   "execution_count": 3,
   "id": "00cf2361",
   "metadata": {},
   "outputs": [
    {
     "name": "stdout",
     "output_type": "stream",
     "text": [
      "100 200 300\n"
     ]
    }
   ],
   "source": [
    "test1()"
   ]
  },
  {
   "cell_type": "code",
   "execution_count": 4,
   "id": "a6ed99c6",
   "metadata": {},
   "outputs": [
    {
     "data": {
      "text/plain": [
       "100"
      ]
     },
     "execution_count": 4,
     "metadata": {},
     "output_type": "execute_result"
    }
   ],
   "source": [
    "i"
   ]
  },
  {
   "cell_type": "code",
   "execution_count": 5,
   "id": "b307e3b0",
   "metadata": {},
   "outputs": [
    {
     "data": {
      "text/plain": [
       "200"
      ]
     },
     "execution_count": 5,
     "metadata": {},
     "output_type": "execute_result"
    }
   ],
   "source": [
    "j"
   ]
  },
  {
   "cell_type": "code",
   "execution_count": 6,
   "id": "52dd426a",
   "metadata": {},
   "outputs": [
    {
     "data": {
      "text/plain": [
       "300"
      ]
     },
     "execution_count": 6,
     "metadata": {},
     "output_type": "execute_result"
    }
   ],
   "source": [
    "k"
   ]
  },
  {
   "cell_type": "code",
   "execution_count": 7,
   "id": "8a4aa3ff",
   "metadata": {},
   "outputs": [],
   "source": [
    "a = 10\n",
    "b= 450\n",
    "def test():\n",
    "    a = 100\n",
    "    print(globals()['a'])\n",
    "    print(a)"
   ]
  },
  {
   "cell_type": "code",
   "execution_count": 8,
   "id": "48725c80",
   "metadata": {},
   "outputs": [
    {
     "name": "stdout",
     "output_type": "stream",
     "text": [
      "10\n",
      "100\n"
     ]
    }
   ],
   "source": [
    "test()"
   ]
  },
  {
   "cell_type": "code",
   "execution_count": null,
   "id": "3f5e669a",
   "metadata": {},
   "outputs": [],
   "source": []
  }
 ],
 "metadata": {
  "kernelspec": {
   "display_name": "Python 3 (ipykernel)",
   "language": "python",
   "name": "python3"
  },
  "language_info": {
   "codemirror_mode": {
    "name": "ipython",
    "version": 3
   },
   "file_extension": ".py",
   "mimetype": "text/x-python",
   "name": "python",
   "nbconvert_exporter": "python",
   "pygments_lexer": "ipython3",
   "version": "3.10.9"
  }
 },
 "nbformat": 4,
 "nbformat_minor": 5
}
